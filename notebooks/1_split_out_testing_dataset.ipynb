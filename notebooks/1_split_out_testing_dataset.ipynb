{
 "cells": [
  {
   "cell_type": "markdown",
   "metadata": {},
   "source": [
    "**此程式目的:**<br>製作好標籤後，將想要的測試資料其照片和標籤抽出，以防被用於訓練。"
   ]
  },
  {
   "cell_type": "markdown",
   "metadata": {},
   "source": [
    "請先將照片手動拖移置```testing_dataset/core_image/```之中"
   ]
  },
  {
   "cell_type": "code",
   "execution_count": null,
   "metadata": {},
   "outputs": [],
   "source": [
    "import os\n",
    "import shutil            \n",
    "import glob"
   ]
  },
  {
   "cell_type": "code",
   "execution_count": null,
   "metadata": {},
   "outputs": [],
   "source": [
    "def deleteItemInFolder(dir): # 刪除路徑下的.png資料\n",
    "    itemToDelete = [f for f in os.listdir(dir) if f.endswith('.png')]\n",
    "    lengthDelete = len(itemToDelete)\n",
    "    for f in itemToDelete:\n",
    "        os.remove(os.path.join(dir, f))\n",
    "    print(\"delete \" + str(lengthDelete) + \" .png item(s)\")\n",
    "def move_files_by_name(source_folder, name_list, destination_folder):\n",
    "    moved_files = False\n",
    "    for file_name in os.listdir(source_folder):\n",
    "        if file_name in name_list:\n",
    "            source_path = os.path.join(source_folder, file_name)\n",
    "            destination_path = os.path.join(destination_folder, file_name)\n",
    "            shutil.move(source_path, destination_path)\n",
    "            print(f\"已移動檔案: {file_name} 到 {destination_folder}\")\n",
    "            moved_files = True\n",
    "    \n",
    "    if not moved_files:\n",
    "        print(\"沒有找到符合條件的檔案需要移動。\")"
   ]
  },
  {
   "cell_type": "code",
   "execution_count": null,
   "metadata": {},
   "outputs": [],
   "source": [
    "# 获取文件夹下所有符合条件的文件名\n",
    "name_list = []\n",
    "for file_path in glob.glob('../testing_dataset/core_image'):\n",
    "    # 获取文件名并添加到列表中\n",
    "    name = os.path.basename(file_path)\n",
    "    name_list.append(name)\n",
    "len(name_list)"
   ]
  },
  {
   "cell_type": "code",
   "execution_count": null,
   "metadata": {},
   "outputs": [],
   "source": [
    "core_2label = '../raw_data/2_label'\n",
    "core_3label = '../raw_data/3_label'\n",
    "core_4label = '../raw_data/4_label'"
   ]
  },
  {
   "cell_type": "code",
   "execution_count": null,
   "metadata": {},
   "outputs": [],
   "source": [
    "testing_2label = '../raw_data/testing_dataset/2_label'\n",
    "testing_3label = '../raw_data/testing_dataset/3_label'\n",
    "testing_4label = '../raw_data/testing_dataset/4_label'"
   ]
  },
  {
   "cell_type": "code",
   "execution_count": null,
   "metadata": {},
   "outputs": [],
   "source": [
    "deleteItemInFolder(testing_2label)\n",
    "deleteItemInFolder(testing_3label)\n",
    "deleteItemInFolder(testing_4label)"
   ]
  },
  {
   "cell_type": "code",
   "execution_count": null,
   "metadata": {},
   "outputs": [],
   "source": [
    "move_files_by_name(core_2label, name_list, testing_2label)"
   ]
  },
  {
   "cell_type": "code",
   "execution_count": null,
   "metadata": {},
   "outputs": [],
   "source": [
    "move_files_by_name(core_3label, name_list, testing_3label)"
   ]
  },
  {
   "cell_type": "code",
   "execution_count": null,
   "metadata": {},
   "outputs": [],
   "source": [
    "move_files_by_name(core_4label, name_list, testing_4label)"
   ]
  }
 ],
 "metadata": {
  "language_info": {
   "name": "python"
  }
 },
 "nbformat": 4,
 "nbformat_minor": 2
}

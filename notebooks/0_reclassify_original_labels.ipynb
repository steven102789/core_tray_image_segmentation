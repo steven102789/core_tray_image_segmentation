{
 "cells": [
  {
   "cell_type": "markdown",
   "metadata": {},
   "source": [
    "**此程式目的:**<br>從原始岩心盒的12種岩性類別，重分類成2、3和4類別\n",
    "|  TYPE   | BG   | C   | M   | Z   | vfS | fs  | mS  | cS  | vcS | fG  | mG  | Cg  | vcG |\n",
    "|:-------:| --- | --- | --- | --- | --- | --- | --- | --- | --- | --- | --- | --- | --- |\n",
    "|  class  | 0   | 1   | 2   | 3   | 4   | 5   | 6   | 7   | 8   | 9   | 10  | 11  |12 |"
   ]
  },
  {
   "cell_type": "code",
   "execution_count": 6,
   "metadata": {},
   "outputs": [],
   "source": [
    "import os \n",
    "import numpy as np\n",
    "from PIL import Image \n",
    "from tqdm import tqdm\n",
    "import cv2\n",
    "import glob"
   ]
  },
  {
   "cell_type": "code",
   "execution_count": 2,
   "metadata": {},
   "outputs": [],
   "source": [
    "def deleteItemInFolder(dir): # 刪除路徑下的.png資料\n",
    "    itemToDelete = [f for f in os.listdir(dir) if f.endswith('.png')]\n",
    "    lengthDelete = len(itemToDelete)\n",
    "    for f in itemToDelete:\n",
    "        os.remove(os.path.join(dir, f))\n",
    "    print(\"delete \" + str(lengthDelete) + \" .png item(s)\")"
   ]
  },
  {
   "cell_type": "markdown",
   "metadata": {},
   "source": [
    "## 重分成2分類"
   ]
  },
  {
   "cell_type": "code",
   "execution_count": 7,
   "metadata": {},
   "outputs": [],
   "source": [
    "#原始標簽儲存的地方\n",
    "pathFromLabel= '../raw_data/13_label/' \n",
    "# reclass 后儲存的地方\n",
    "pathDesLabel = \"../raw_data/2_label/\" "
   ]
  },
  {
   "cell_type": "code",
   "execution_count": 8,
   "metadata": {},
   "outputs": [
    {
     "name": "stdout",
     "output_type": "stream",
     "text": [
      "delete 3947 .png item(s)\n"
     ]
    }
   ],
   "source": [
    "deleteItemInFolder(pathDesLabel)"
   ]
  },
  {
   "cell_type": "code",
   "execution_count": 9,
   "metadata": {},
   "outputs": [
    {
     "name": "stderr",
     "output_type": "stream",
     "text": [
      "Processing files: 100%|██████████| 3948/3948 [00:44<00:00, 87.80it/s] \n"
     ]
    }
   ],
   "source": [
    "# class 2\n",
    "files = os.listdir(pathFromLabel)\n",
    "for file in tqdm(files, desc=\"Processing files\"):\n",
    "    # 仅处理以.png结尾的文件\n",
    "    if os.path.splitext(file)[1].lower() == '.png':\n",
    "        im = Image.open(os.path.join(pathFromLabel, file))\n",
    "        imarray = np.array(im)\n",
    "        \n",
    "        # 将1到8的标签改为1\n",
    "        imarray = np.where((imarray >= 1) & (imarray <= 8), 1, imarray)\n",
    "        # 将9到12的标签改为2\n",
    "        imarray = np.where((imarray >= 9) & (imarray <= 12), 2, imarray)\n",
    "\n",
    "        # 保存更新后的图片\n",
    "        updated_im = Image.fromarray(imarray)\n",
    "        updated_im.save(os.path.join(pathDesLabel, file))"
   ]
  },
  {
   "cell_type": "markdown",
   "metadata": {},
   "source": [
    "## 重分成3分類"
   ]
  },
  {
   "cell_type": "code",
   "execution_count": 10,
   "metadata": {},
   "outputs": [],
   "source": [
    "#原始標簽儲存的地方\n",
    "pathFromLabel= '../raw_data/13_label/' \n",
    "# reclass 后儲存的地方\n",
    "pathDesLabel = \"../raw_data/3_label/\" "
   ]
  },
  {
   "cell_type": "code",
   "execution_count": 11,
   "metadata": {},
   "outputs": [
    {
     "name": "stdout",
     "output_type": "stream",
     "text": [
      "delete 0 .png item(s)\n"
     ]
    }
   ],
   "source": [
    "deleteItemInFolder(pathDesLabel)"
   ]
  },
  {
   "cell_type": "code",
   "execution_count": 12,
   "metadata": {},
   "outputs": [
    {
     "name": "stderr",
     "output_type": "stream",
     "text": [
      "Processing files: 100%|██████████| 3948/3948 [00:50<00:00, 78.85it/s] \n"
     ]
    }
   ],
   "source": [
    "# class 3\n",
    "files = os.listdir(pathFromLabel)\n",
    "for file in tqdm(files, desc=\"Processing files\"):\n",
    "    # 仅处理以.png结尾的文件\n",
    "    if os.path.splitext(file)[1].lower() == '.png':\n",
    "        im = Image.open(os.path.join(pathFromLabel, file))\n",
    "        imarray = np.array(im)\n",
    "    \n",
    "        # 将1到8的标签改为1\n",
    "        imarray = np.where((imarray >= 1) & (imarray <= 4), 1, imarray)\n",
    "        # 将5到8的标签改为2\n",
    "        imarray = np.where((imarray >= 5) & (imarray <= 8), 2, imarray)\n",
    "        # 将9到12的标签改为3\n",
    "        imarray = np.where((imarray >= 9) & (imarray <= 12), 3, imarray)\n",
    "\n",
    "        # 保存更新后的图片\n",
    "        updated_im = Image.fromarray(imarray)\n",
    "        updated_im.save(os.path.join(pathDesLabel, file))"
   ]
  },
  {
   "cell_type": "markdown",
   "metadata": {},
   "source": [
    "## 重分成4分類"
   ]
  },
  {
   "cell_type": "code",
   "execution_count": 13,
   "metadata": {},
   "outputs": [],
   "source": [
    "#原始標簽儲存的地方\n",
    "pathFromLabel= '../raw_data/13_label/' \n",
    "# reclass 后儲存的地方\n",
    "pathDesLabel = \"../raw_data/4_label/\" "
   ]
  },
  {
   "cell_type": "code",
   "execution_count": 14,
   "metadata": {},
   "outputs": [
    {
     "name": "stdout",
     "output_type": "stream",
     "text": [
      "delete 0 .png item(s)\n"
     ]
    }
   ],
   "source": [
    "deleteItemInFolder(pathDesLabel)"
   ]
  },
  {
   "cell_type": "code",
   "execution_count": 15,
   "metadata": {},
   "outputs": [
    {
     "name": "stderr",
     "output_type": "stream",
     "text": [
      "Processing files: 100%|██████████| 3948/3948 [00:53<00:00, 73.30it/s] \n"
     ]
    }
   ],
   "source": [
    "# class 4\n",
    "files = os.listdir(pathFromLabel)\n",
    "for file in tqdm(files, desc=\"Processing files\"):\n",
    "    # 仅处理以.png结尾的文件\n",
    "    if os.path.splitext(file)[1].lower() == '.png':\n",
    "        im = Image.open(os.path.join(pathFromLabel, file))\n",
    "        imarray = np.array(im)\n",
    "    \n",
    "        # 将1到8的标签改为1\n",
    "        imarray = np.where((imarray >= 1) & (imarray <= 3), 1, imarray)\n",
    "        # 将1到8的标签改为1\n",
    "        imarray = np.where((imarray >= 4) & (imarray <= 5), 2, imarray)\n",
    "        # 将5到8的标签改为2\n",
    "        imarray = np.where((imarray >= 6) & (imarray <= 8), 3, imarray)\n",
    "        # 将9到12的标签改为3\n",
    "        imarray = np.where((imarray >= 9) & (imarray <= 12), 4, imarray)\n",
    "\n",
    "        # 保存更新后的图片\n",
    "        updated_im = Image.fromarray(imarray)\n",
    "        updated_im.save(os.path.join(pathDesLabel, file))"
   ]
  },
  {
   "cell_type": "markdown",
   "metadata": {},
   "source": [
    "## 標籤驗證"
   ]
  },
  {
   "cell_type": "code",
   "execution_count": 16,
   "metadata": {},
   "outputs": [],
   "source": [
    "SIZE_X = 256 \n",
    "SIZE_Y = 256\n",
    "n_classes= 4  # 分割的類別數量"
   ]
  },
  {
   "cell_type": "code",
   "execution_count": 17,
   "metadata": {},
   "outputs": [],
   "source": [
    "# 捕捉遮罩/標籤信息，以列表形式保存\n",
    "train_masks = [] \n",
    "for mask_path in glob.glob(f'../raw_data/13_label/*.png'):\n",
    "    mask = cv2.imread(mask_path, 0)\n",
    "    mask = cv2.resize(mask, (SIZE_Y, SIZE_X), interpolation=cv2.INTER_NEAREST)\n",
    "    train_masks.append(mask)\n",
    "        \n",
    "# 將列表轉換為陣列，以供機器學習處理          \n",
    "train_masks = np.array(train_masks)  # 這是載入照片及標籤的程式"
   ]
  },
  {
   "cell_type": "code",
   "execution_count": 18,
   "metadata": {},
   "outputs": [],
   "source": [
    "# 捕捉遮罩/標籤信息，以列表形式保存\n",
    "three_label_train_masks = [] \n",
    "for mask_path in glob.glob(f'../raw_data/3_label/*.png'):\n",
    "    mask = cv2.imread(mask_path, 0)\n",
    "    mask = cv2.resize(mask, (SIZE_Y, SIZE_X), interpolation=cv2.INTER_NEAREST)\n",
    "    three_label_train_masks.append(mask)\n",
    "        \n",
    "# 將列表轉換為陣列，以供機器學習處理          \n",
    "three_label_train_masks = np.array(three_label_train_masks)  # 這是載入照片及標籤的程式"
   ]
  },
  {
   "cell_type": "code",
   "execution_count": 19,
   "metadata": {},
   "outputs": [
    {
     "name": "stdout",
     "output_type": "stream",
     "text": [
      "train mask shape: (3947, 256, 256)\n"
     ]
    }
   ],
   "source": [
    "print(\"train mask shape: \" + str(three_label_train_masks.shape))"
   ]
  },
  {
   "cell_type": "code",
   "execution_count": 39,
   "metadata": {},
   "outputs": [],
   "source": [
    "# 初始化一个字典来存储所有子数组的累加计数结果\n",
    "three_label_cumulative_count = {0: 0, \n",
    "                                1: 0, \n",
    "                                2: 0, \n",
    "                                3: 0}\n",
    "all_label_cumulative_count =  {0:0, 1:0, 2:0, \n",
    "                               3:0, 4:0, 5:0, \n",
    "                               6:0, 7:0, 8:0, \n",
    "                               9:0, 10:0, 11:0, \n",
    "                               12:0}"
   ]
  },
  {
   "cell_type": "code",
   "execution_count": 40,
   "metadata": {},
   "outputs": [],
   "source": [
    "# 遍历每个子数组并累加每个值的个数\n",
    "for array in three_label_train_masks:\n",
    "    values, counts = np.unique(array, return_counts=True)\n",
    "    count_dict = dict(zip(values, counts))\n",
    "    for value, count in count_dict.items():\n",
    "        three_label_cumulative_count[value] += count"
   ]
  },
  {
   "cell_type": "code",
   "execution_count": 41,
   "metadata": {},
   "outputs": [],
   "source": [
    "# 遍历每个子数组并累加每个值的个数\n",
    "for array in train_masks:\n",
    "    values, counts = np.unique(array, return_counts=True)\n",
    "    count_dict = dict(zip(values, counts))\n",
    "    for value, count in count_dict.items():\n",
    "        all_label_cumulative_count[value] += count"
   ]
  },
  {
   "cell_type": "code",
   "execution_count": 43,
   "metadata": {},
   "outputs": [
    {
     "name": "stdout",
     "output_type": "stream",
     "text": [
      "three label counts: {0: 63212918, 1: 85827055, 2: 39282852, 3: 70347767}\n",
      "all label counts: {0: 63212918, 1: 297648, 2: 63037400, 3: 2862818, 4: 19629189, 5: 18460172, 6: 9641601, 7: 4718062, 8: 6463017, 9: 11842531, 10: 28510458, 11: 25357580, 12: 4637198}\n"
     ]
    }
   ],
   "source": [
    "# 输出累加的计数结果\n",
    "print(\"three label counts:\", three_label_cumulative_count)\n",
    "print(\"all label counts:\", all_label_cumulative_count)"
   ]
  },
  {
   "cell_type": "code",
   "execution_count": 63,
   "metadata": {},
   "outputs": [
    {
     "name": "stdout",
     "output_type": "stream",
     "text": [
      "==>> frist label_sum: 85827055\n"
     ]
    }
   ],
   "source": [
    "label_sum = 0\n",
    "for i in range(1, 5):\n",
    "    label_sum += all_label_cumulative_count[i]\n",
    "print(f\"==>> frist label_sum: {label_sum}\")"
   ]
  },
  {
   "cell_type": "code",
   "execution_count": 67,
   "metadata": {},
   "outputs": [
    {
     "name": "stdout",
     "output_type": "stream",
     "text": [
      "==>> seconed label_sum: 39282852\n"
     ]
    }
   ],
   "source": [
    "label_sum = 0\n",
    "for i in range(5, 9):\n",
    "    label_sum += all_label_cumulative_count[i]\n",
    "print(f\"==>> seconed label_sum: {label_sum}\")"
   ]
  },
  {
   "cell_type": "code",
   "execution_count": 69,
   "metadata": {},
   "outputs": [
    {
     "name": "stdout",
     "output_type": "stream",
     "text": [
      "==>> third label_sum: 70347767\n"
     ]
    }
   ],
   "source": [
    "label_sum = 0\n",
    "for i in range(9, 13):\n",
    "    label_sum += all_label_cumulative_count[i]\n",
    "print(f\"==>> third label_sum: {label_sum}\")"
   ]
  }
 ],
 "metadata": {
  "kernelspec": {
   "display_name": "well_work",
   "language": "python",
   "name": "python3"
  },
  "language_info": {
   "codemirror_mode": {
    "name": "ipython",
    "version": 3
   },
   "file_extension": ".py",
   "mimetype": "text/x-python",
   "name": "python",
   "nbconvert_exporter": "python",
   "pygments_lexer": "ipython3",
   "version": "3.9.16"
  }
 },
 "nbformat": 4,
 "nbformat_minor": 2
}

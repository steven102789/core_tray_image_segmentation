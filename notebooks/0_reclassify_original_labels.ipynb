{
 "cells": [
  {
   "cell_type": "markdown",
   "metadata": {},
   "source": [
    "**此程式目的:**<br>從原始岩心盒的12種岩性類別，重分類成2、3和4類別\n",
    "|  TYPE   | BG   | C   | M   | Z   | vfS | fs  | mS  | cS  | vcS | fG  | mG  | Cg  | vcG |\n",
    "|:-------:| --- | --- | --- | --- | --- | --- | --- | --- | --- | --- | --- | --- | --- |\n",
    "|  class  | 0   | 1   | 2   | 3   | 4   | 5   | 6   | 7   | 8   | 9   | 10  | 11  |12 |"
   ]
  },
  {
   "cell_type": "code",
   "execution_count": 15,
   "metadata": {},
   "outputs": [],
   "source": [
    "import os \n",
    "import numpy as np\n",
    "from PIL import Image \n",
    "import numpy\n",
    "import cv2\n",
    "import glob"
   ]
  },
  {
   "cell_type": "code",
   "execution_count": 7,
   "metadata": {},
   "outputs": [],
   "source": [
    "def deleteItemInFolder(dir): # 刪除路徑下的.png資料\n",
    "    itemToDelete = [f for f in os.listdir(dir) if f.endswith('.png')]\n",
    "    lengthDelete = len(itemToDelete)\n",
    "    for f in itemToDelete:\n",
    "        os.remove(os.path.join(dir, f))\n",
    "    print(\"delete \" + str(lengthDelete) + \" .png item(s)\")"
   ]
  },
  {
   "cell_type": "markdown",
   "metadata": {},
   "source": [
    "## 重分成2分類"
   ]
  },
  {
   "cell_type": "code",
   "execution_count": 12,
   "metadata": {},
   "outputs": [],
   "source": [
    "#原始標簽儲存的地方\n",
    "pathFromLabel= '../raw_data/13_label/' \n",
    "# reclass 后儲存的地方\n",
    "pathDesLabel = \"../raw_data/2_label/\" "
   ]
  },
  {
   "cell_type": "code",
   "execution_count": 13,
   "metadata": {},
   "outputs": [
    {
     "name": "stdout",
     "output_type": "stream",
     "text": [
      "delete 0 .png item(s)\n"
     ]
    }
   ],
   "source": [
    "deleteItemInFolder(pathDesLabel)"
   ]
  },
  {
   "cell_type": "code",
   "execution_count": null,
   "metadata": {},
   "outputs": [],
   "source": [
    "# class 2\n",
    "files = os.listdir(pathFromLabel)\n",
    "for file in files:\n",
    "    im = Image.open(os.path.join(pathFromLabel, file))\n",
    "    imarray = np.array(im)\n",
    "    \n",
    "    # 将1到8的标签改为1\n",
    "    imarray = np.where((imarray >= 1) & (imarray <= 8), 1, imarray)\n",
    "    # 将9到12的标签改为2\n",
    "    imarray = np.where((imarray >= 9) & (imarray <= 12), 2, imarray)\n",
    "\n",
    "    # 保存更新后的图片\n",
    "    updated_im = Image.fromarray(imarray)\n",
    "    updated_im.save(os.path.join(pathDesLabel, file))\n",
    "    print(f\"Processed {file}\")"
   ]
  },
  {
   "cell_type": "markdown",
   "metadata": {},
   "source": [
    "## 重分成3分類"
   ]
  },
  {
   "cell_type": "code",
   "execution_count": null,
   "metadata": {},
   "outputs": [],
   "source": [
    "#原始標簽儲存的地方\n",
    "pathFromLabel= '../raw_data/13_label/' \n",
    "# reclass 后儲存的地方\n",
    "pathDesLabel = \"../raw_data/3_label/\" "
   ]
  },
  {
   "cell_type": "code",
   "execution_count": null,
   "metadata": {},
   "outputs": [],
   "source": [
    "deleteItemInFolder(pathDesLabel)"
   ]
  },
  {
   "cell_type": "code",
   "execution_count": null,
   "metadata": {},
   "outputs": [],
   "source": [
    "# class 3\n",
    "files = os.listdir(pathFromLabel)\n",
    "for file in files:\n",
    "    im = Image.open(os.path.join(pathFromLabel, file))\n",
    "    imarray = np.array(im)\n",
    "    \n",
    "    # 将1到8的标签改为1\n",
    "    imarray = np.where((imarray >= 1) & (imarray <= 4), 1, imarray)\n",
    "    # 将5到8的标签改为2\n",
    "    imarray = np.where((imarray >= 5) & (imarray <= 8), 2, imarray)\n",
    "    # 将9到12的标签改为3\n",
    "    imarray = np.where((imarray >= 9) & (imarray <= 12), 3, imarray)\n",
    "\n",
    "    # 保存更新后的图片\n",
    "    updated_im = Image.fromarray(imarray)\n",
    "    updated_im.save(os.path.join(pathDesLabel, file))\n",
    "    print(f\"Processed {file}\")"
   ]
  },
  {
   "cell_type": "markdown",
   "metadata": {},
   "source": [
    "## 重分成4分類"
   ]
  },
  {
   "cell_type": "code",
   "execution_count": null,
   "metadata": {},
   "outputs": [],
   "source": [
    "#原始標簽儲存的地方\n",
    "pathFromLabel= '../raw_data/13_label/' \n",
    "# reclass 后儲存的地方\n",
    "pathDesLabel = \"../raw_data/4_label/\" "
   ]
  },
  {
   "cell_type": "code",
   "execution_count": null,
   "metadata": {},
   "outputs": [],
   "source": [
    "deleteItemInFolder(pathDesLabel)"
   ]
  },
  {
   "cell_type": "code",
   "execution_count": null,
   "metadata": {},
   "outputs": [],
   "source": [
    "# class 4\n",
    "files = os.listdir(pathFromLabel)\n",
    "for file in files:\n",
    "    im = Image.open(os.path.join(pathFromLabel, file))\n",
    "    imarray = np.array(im)\n",
    "    \n",
    "    # 将1到8的标签改为1\n",
    "    imarray = np.where((imarray >= 1) & (imarray <= 3), 1, imarray)\n",
    "    # 将1到8的标签改为1\n",
    "    imarray = np.where((imarray >= 4) & (imarray <= 5), 2, imarray)\n",
    "    # 将5到8的标签改为2\n",
    "    imarray = np.where((imarray >= 6) & (imarray <= 8), 3, imarray)\n",
    "    # 将9到12的标签改为3\n",
    "    imarray = np.where((imarray >= 9) & (imarray <= 12), 4, imarray)\n",
    "\n",
    "    # 保存更新后的图片\n",
    "    updated_im = Image.fromarray(imarray)\n",
    "    updated_im.save(os.path.join(pathDesLabel, file))\n",
    "    print(f\"Processed {file}\")"
   ]
  },
  {
   "cell_type": "markdown",
   "metadata": {},
   "source": [
    "## 標籤驗證"
   ]
  },
  {
   "cell_type": "code",
   "execution_count": null,
   "metadata": {},
   "outputs": [],
   "source": [
    "SIZE_X = 256 \n",
    "SIZE_Y = 256\n",
    "n_classes= 4  # 分割的類別數量"
   ]
  },
  {
   "cell_type": "code",
   "execution_count": null,
   "metadata": {},
   "outputs": [],
   "source": [
    "# 捕捉遮罩/標籤信息，以列表形式保存\n",
    "train_masks = [] \n",
    "for mask_path in glob.glob(f'../raw_data/13_label/*.png'):\n",
    "    mask = cv2.imread(mask_path, 0)\n",
    "    mask = cv2.resize(mask, (SIZE_Y, SIZE_X), interpolation=cv2.INTER_NEAREST)\n",
    "    train_masks.append(mask)\n",
    "        \n",
    "# 將列表轉換為陣列，以供機器學習處理          \n",
    "train_masks = np.array(train_masks)  # 這是載入照片及標籤的程式"
   ]
  },
  {
   "cell_type": "code",
   "execution_count": null,
   "metadata": {},
   "outputs": [],
   "source": [
    "# 捕捉遮罩/標籤信息，以列表形式保存\n",
    "three_label_train_masks = [] \n",
    "for mask_path in glob.glob(f'../raw_data/3_label/*.png'):\n",
    "    mask = cv2.imread(mask_path, 0)\n",
    "    mask = cv2.resize(mask, (SIZE_Y, SIZE_X), interpolation=cv2.INTER_NEAREST)\n",
    "    three_label_train_masks.append(mask)\n",
    "        \n",
    "# 將列表轉換為陣列，以供機器學習處理          \n",
    "three_label_train_masks = np.array(three_label_train_masks)  # 這是載入照片及標籤的程式"
   ]
  },
  {
   "cell_type": "code",
   "execution_count": null,
   "metadata": {},
   "outputs": [],
   "source": [
    "print(\"train mask shape: \" + str(three_label_train_masks.shape))"
   ]
  },
  {
   "cell_type": "code",
   "execution_count": null,
   "metadata": {},
   "outputs": [],
   "source": [
    "# 初始化一个字典来存储所有子数组的累加计数结果\n",
    "three_label_cumulative_count = {0: 0, \n",
    "                                1: 0, \n",
    "                                2: 0, \n",
    "                                3: 0}\n",
    "all_label_cumulative_count =  {0:0, 1:0, 2:0, \n",
    "                               3:0, 4:0, 5:0, \n",
    "                               6:0, 7:0, 8:0, \n",
    "                               9:0, 10:0, 11:0, 12:0}\n",
    "                                                                                           \n",
    "# 遍历每个子数组并累加每个值的个数\n",
    "for array in three_label_train_masks:\n",
    "    values, counts = np.unique(array, return_counts=True)\n",
    "    count_dict = dict(zip(values, counts))\n",
    "    for value, count in count_dict.items():\n",
    "        three_label_cumulative_count[value] += count\n",
    "# 初始化一个字典来存储所有子数组的累加计数结果\n",
    "all_label_cumulative_count = {0: 0, \n",
    "                                1: 0, \n",
    "                                2: 0, \n",
    "                                3: 0}\n",
    "\n",
    "# 遍历每个子数组并累加每个值的个数\n",
    "for array in train_masks:\n",
    "    values, counts = np.unique(array, return_counts=True)\n",
    "    count_dict = dict(zip(values, counts))\n",
    "    for value, count in count_dict.items():\n",
    "        all_label_cumulative_count[value] += count"
   ]
  },
  {
   "cell_type": "code",
   "execution_count": null,
   "metadata": {},
   "outputs": [],
   "source": [
    "\n",
    "# 输出累加的计数结果\n",
    "print(\"Cumulative counts:\", three_label_cumulative_count)"
   ]
  }
 ],
 "metadata": {
  "kernelspec": {
   "display_name": "well_work",
   "language": "python",
   "name": "python3"
  },
  "language_info": {
   "codemirror_mode": {
    "name": "ipython",
    "version": 3
   },
   "file_extension": ".py",
   "mimetype": "text/x-python",
   "name": "python",
   "nbconvert_exporter": "python",
   "pygments_lexer": "ipython3",
   "version": "3.9.16"
  }
 },
 "nbformat": 4,
 "nbformat_minor": 2
}

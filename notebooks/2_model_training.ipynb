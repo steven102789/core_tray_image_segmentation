{
 "cells": [
  {
   "cell_type": "code",
   "execution_count": 1,
   "metadata": {},
   "outputs": [],
   "source": [
    "import keras\n",
    "import glob\n",
    "import cv2\n",
    "import os\n",
    "import gc\n",
    "import pickle\n",
    "import numpy as np\n",
    "import pandas as pd\n",
    "import tqdm\n",
    "from models.SegNet import *\n",
    "from models.U_net import *\n",
    "from models.DeeplabV3Plus import *\n",
    "from models.AutoEncoder import *\n",
    "from keras.utils import to_categorical\n",
    "from keras.callbacks import ReduceLROnPlateau, EarlyStopping, ModelCheckpoint\n",
    "from keras.optimizers import SGD\n",
    "from keras.metrics import MeanIoU\n",
    "from matplotlib import pyplot as plt\n",
    "from sklearn.preprocessing import LabelEncoder\n",
    "from sklearn.utils import  compute_class_weight\n",
    "from sklearn.metrics import classification_report\n",
    "from sklearn.model_selection import train_test_split"
   ]
  },
  {
   "cell_type": "markdown",
   "metadata": {},
   "source": [
    "## 載入照片與標籤"
   ]
  },
  {
   "cell_type": "code",
   "execution_count": 2,
   "metadata": {},
   "outputs": [],
   "source": [
    "# 調整圖片大小，如果有需要\n",
    "SIZE_X = 256 \n",
    "SIZE_Y = 256\n",
    "n_classes= 4  # 分割的類別數量=岩石分類+背景(1)=n_classes\n",
    "random_number = 0\n",
    "batch_size = 16\n",
    "epochs_num = 300\n",
    "model_name = f'random_{random_number}.h5'"
   ]
  },
  {
   "cell_type": "code",
   "execution_count": 3,
   "metadata": {},
   "outputs": [
    {
     "name": "stderr",
     "output_type": "stream",
     "text": [
      "正在載入照片: 100%|██████████| 3943/3943 [01:11<00:00, 55.32it/s] \n"
     ]
    }
   ],
   "source": [
    "# 捕捉訓練圖片信息，以列表形式保存\n",
    "train_images = []\n",
    "\n",
    "for img_path in tqdm.tqdm(glob.glob('../raw_data/core_image/*.png'), desc=\"正在載入照片\"):\n",
    "    img = cv2.imread(img_path)\n",
    "    img = cv2.resize(img, (SIZE_Y, SIZE_X))\n",
    "    train_images.append(img)\n",
    "    # 提取文件名並附加到列表中\n",
    "    image_name = os.path.basename(img_path)\n",
    "\n",
    "# 將列表轉換為陣列，以供機器學習處理        \n",
    "train_images = np.array(train_images)"
   ]
  },
  {
   "cell_type": "code",
   "execution_count": 4,
   "metadata": {},
   "outputs": [
    {
     "name": "stderr",
     "output_type": "stream",
     "text": [
      "正在載入標籤:   0%|          | 0/3943 [00:00<?, ?it/s]"
     ]
    },
    {
     "name": "stderr",
     "output_type": "stream",
     "text": [
      "正在載入標籤: 100%|██████████| 3943/3943 [00:05<00:00, 716.39it/s] \n"
     ]
    }
   ],
   "source": [
    "# 捕捉遮罩/標籤信息，以列表形式保存\n",
    "train_masks = [] \n",
    "for mask_path in tqdm.tqdm(glob.glob(f'../raw_data/{int(n_classes)-1}_label/*.png'), desc=\"正在載入標籤\"):\n",
    "    mask = cv2.imread(mask_path, 0)\n",
    "    mask = cv2.resize(mask, (SIZE_Y, SIZE_X), interpolation=cv2.INTER_NEAREST)\n",
    "    train_masks.append(mask)\n",
    "        \n",
    "# 將列表轉換為陣列，以供機器學習處理          \n",
    "train_masks = np.array(train_masks)  # 這是載入照片及標籤的程式"
   ]
  },
  {
   "cell_type": "code",
   "execution_count": 5,
   "metadata": {},
   "outputs": [
    {
     "name": "stdout",
     "output_type": "stream",
     "text": [
      "train image shape: (3943, 256, 256, 3)\n",
      "train mask shape: (3943, 256, 256)\n"
     ]
    }
   ],
   "source": [
    "print(\"train image shape: \" + str(train_images.shape))\n",
    "print(\"train mask shape: \" + str(train_masks.shape))"
   ]
  },
  {
   "cell_type": "markdown",
   "metadata": {},
   "source": [
    "## 訓練/測試集"
   ]
  },
  {
   "cell_type": "code",
   "execution_count": 6,
   "metadata": {},
   "outputs": [
    {
     "name": "stdout",
     "output_type": "stream",
     "text": [
      "(3943, 256, 256)\n"
     ]
    },
    {
     "data": {
      "text/plain": [
       "array([0, 1, 2, 3], dtype=int64)"
      ]
     },
     "execution_count": 6,
     "metadata": {},
     "output_type": "execute_result"
    }
   ],
   "source": [
    "###############################################\n",
    "#Encode labels... but multi dim array so need to flatten, encode and reshape\n",
    "labelencoder = LabelEncoder()\n",
    "n, h, w = train_masks.shape\n",
    "train_masks_reshaped = train_masks.reshape(-1,1)\n",
    "train_masks_reshaped_encoded = labelencoder.fit_transform(train_masks_reshaped.ravel())\n",
    "train_masks_encoded_original_shape = train_masks_reshaped_encoded.reshape(n, h, w)\n",
    "\n",
    "print(train_masks_encoded_original_shape.shape)\n",
    "np.unique(train_masks_encoded_original_shape)"
   ]
  },
  {
   "cell_type": "code",
   "execution_count": 7,
   "metadata": {},
   "outputs": [
    {
     "data": {
      "text/plain": [
       "9"
      ]
     },
     "execution_count": 7,
     "metadata": {},
     "output_type": "execute_result"
    }
   ],
   "source": [
    "#train_images = np.expand_dims(train_images, axis=3)\n",
    "train_images_norm = train_images/255\n",
    "\n",
    "train_masks_input = np.expand_dims(train_masks_encoded_original_shape, axis=3)\n",
    "###del\n",
    "del train_masks_encoded_original_shape,train_masks_reshaped\n",
    "gc.collect()"
   ]
  },
  {
   "cell_type": "code",
   "execution_count": 8,
   "metadata": {},
   "outputs": [
    {
     "name": "stdout",
     "output_type": "stream",
     "text": [
      "Training set shape:  (3154, 256, 256, 3)\n",
      "Validation set shape:  (789, 256, 256, 3)\n"
     ]
    }
   ],
   "source": [
    "X_train, X_test, y_train, y_test= train_test_split(\n",
    "    train_images_norm, \n",
    "    train_masks_input, \n",
    "    test_size=0.2, \n",
    "    random_state=random_number\n",
    ")\n",
    "# Print shapes of the sets\n",
    "print(\"Training set shape: \", X_train.shape)\n",
    "print(\"Validation set shape: \", X_test.shape)"
   ]
  },
  {
   "cell_type": "code",
   "execution_count": 9,
   "metadata": {},
   "outputs": [
    {
     "data": {
      "text/plain": [
       "0"
      ]
     },
     "execution_count": 9,
     "metadata": {},
     "output_type": "execute_result"
    }
   ],
   "source": [
    "del train_images_norm, train_masks_input\n",
    "gc.collect()"
   ]
  },
  {
   "cell_type": "code",
   "execution_count": 11,
   "metadata": {},
   "outputs": [
    {
     "name": "stdout",
     "output_type": "stream",
     "text": [
      "Class values in the dataset are ...  [0 1 2 3]\n"
     ]
    }
   ],
   "source": [
    "print(\"Class values in the dataset are ... \", np.unique(y_train))  # 0 is the background/few unlabeled \n",
    "\n",
    "train_masks_cat = to_categorical(y_train, num_classes=n_classes)\n",
    "y_train_cat = train_masks_cat.reshape((y_train.shape[0], y_train.shape[1], y_train.shape[2], n_classes))\n",
    "\n",
    "test_masks_cat = to_categorical(y_test, num_classes=n_classes)\n",
    "y_test_cat = test_masks_cat.reshape((y_test.shape[0], y_test.shape[1], y_test.shape[2], n_classes))"
   ]
  },
  {
   "cell_type": "code",
   "execution_count": 11,
   "metadata": {},
   "outputs": [
    {
     "data": {
      "text/plain": [
       "[1.0230623010003006, 0.7541217329575782, 1.6451587108611456, 0.91856678293266]"
      ]
     },
     "execution_count": 11,
     "metadata": {},
     "output_type": "execute_result"
    }
   ],
   "source": [
    "class_weights =compute_class_weight(class_weight = \"balanced\",\n",
    "                                        classes = np.unique(train_masks_reshaped_encoded),\n",
    "                                        y = train_masks_reshaped_encoded )                                    \n",
    "class_weights = class_weights.tolist()\n",
    "class_weights"
   ]
  },
  {
   "cell_type": "code",
   "execution_count": 12,
   "metadata": {},
   "outputs": [
    {
     "name": "stdout",
     "output_type": "stream",
     "text": [
      "class_weights 已保存到 class_weights.pkl 檔案中。\n"
     ]
    }
   ],
   "source": [
    "# 將 class_weights 寫入到.pkl檔案\n",
    "with open(f'./random_number_{random_number}.pkl', 'wb') as f:\n",
    "    pickle.dump(class_weights, f)\n",
    "\n",
    "print(\"class_weights 已保存到 class_weights.pkl 檔案中。\")"
   ]
  },
  {
   "cell_type": "markdown",
   "metadata": {},
   "source": [
    "---"
   ]
  },
  {
   "cell_type": "code",
   "execution_count": 10,
   "metadata": {},
   "outputs": [
    {
     "data": {
      "text/plain": [
       "[1.0230623010003006, 0.7541217329575782, 1.6451587108611456, 0.91856678293266]"
      ]
     },
     "execution_count": 10,
     "metadata": {},
     "output_type": "execute_result"
    }
   ],
   "source": [
    "# 从文件中加载 class_weights 对象\n",
    "with open(f'./random_number_{random_number}.pkl', 'rb') as f:\n",
    "    class_weights = pickle.load(f)\n",
    "class_weights"
   ]
  },
  {
   "cell_type": "code",
   "execution_count": 12,
   "metadata": {},
   "outputs": [
    {
     "name": "stdout",
     "output_type": "stream",
     "text": [
      "Model: \"model\"\n",
      "_________________________________________________________________\n",
      " Layer (type)                Output Shape              Param #   \n",
      "=================================================================\n",
      " input_1 (InputLayer)        [(None, 256, 256, 3)]     0         \n",
      "                                                                 \n",
      " conv2d (Conv2D)             (None, 256, 256, 64)      1792      \n",
      "                                                                 \n",
      " max_pooling2d (MaxPooling2D  (None, 128, 128, 64)     0         \n",
      " )                                                               \n",
      "                                                                 \n",
      " conv2d_1 (Conv2D)           (None, 128, 128, 128)     73856     \n",
      "                                                                 \n",
      " max_pooling2d_1 (MaxPooling  (None, 64, 64, 128)      0         \n",
      " 2D)                                                             \n",
      "                                                                 \n",
      " conv2d_2 (Conv2D)           (None, 64, 64, 256)       295168    \n",
      "                                                                 \n",
      " max_pooling2d_2 (MaxPooling  (None, 32, 32, 256)      0         \n",
      " 2D)                                                             \n",
      "                                                                 \n",
      " conv2d_3 (Conv2D)           (None, 32, 32, 256)       590080    \n",
      "                                                                 \n",
      " up_sampling2d (UpSampling2D  (None, 64, 64, 256)      0         \n",
      " )                                                               \n",
      "                                                                 \n",
      " conv2d_4 (Conv2D)           (None, 64, 64, 128)       295040    \n",
      "                                                                 \n",
      " up_sampling2d_1 (UpSampling  (None, 128, 128, 128)    0         \n",
      " 2D)                                                             \n",
      "                                                                 \n",
      " conv2d_5 (Conv2D)           (None, 128, 128, 64)      73792     \n",
      "                                                                 \n",
      " up_sampling2d_2 (UpSampling  (None, 256, 256, 64)     0         \n",
      " 2D)                                                             \n",
      "                                                                 \n",
      " conv2d_6 (Conv2D)           (None, 256, 256, 4)       2308      \n",
      "                                                                 \n",
      "=================================================================\n",
      "Total params: 1,332,036\n",
      "Trainable params: 1,332,036\n",
      "Non-trainable params: 0\n",
      "_________________________________________________________________\n"
     ]
    }
   ],
   "source": [
    "#使用U-Net\n",
    "# model =  U_NET(n_classes= n_classes, IMG_HEIGHT=256, IMG_WIDTH=256, IMG_CHANNELS=3)\n",
    "# model.compile(optimizer='adam', \n",
    "#               loss= weightedLoss(keras.losses.categorical_crossentropy, class_weights), \n",
    "#               metrics=['accuracy'])\n",
    "# model.summary()\n",
    "#使用segNet\n",
    "# model =  segnet(n_classes=4, IMG_HEIGHT=256, IMG_WIDTH=256, IMG_CHANNELS=3)\n",
    "# model.compile(optimizer=SGD(learning_rate=0.001, \n",
    "#                                 momentum=0.9, \n",
    "#                                 decay=0.0005, \n",
    "#                                 nesterov=False), \n",
    "#                                 loss='categorical_crossentropy', \n",
    "#                                 metrics=['accuracy']) # type: ignore\n",
    "# model.summary()\n",
    "#使用autoencoder\n",
    "model = AutoEncoder(n_classes=4, IMG_HEIGHT=256, IMG_WIDTH=256, IMG_CHANNELS=3)\n",
    "model.compile(optimizer=Adam(), loss='categorical_crossentropy', metrics=['accuracy'])\n",
    "model.summary()"
   ]
  },
  {
   "cell_type": "code",
   "execution_count": 14,
   "metadata": {},
   "outputs": [],
   "source": [
    "learning_rate_function = ReduceLROnPlateau(monitor='val_loss', \n",
    "                                            patience=3, \n",
    "                                            verbose=1, \n",
    "                                            factor=0.6,\n",
    "                                            min_lr=0.00001)\n",
    "earlystop = EarlyStopping(monitor='val_loss',\n",
    "                          mode='min',\n",
    "                          #min_delta=0.001,\n",
    "                          patience=60,\n",
    "                          verbose=1)\n",
    "modelcheck = ModelCheckpoint(model_name,\n",
    "                             monitor='val_loss',\n",
    "                             mode='min',\n",
    "                             verbose=1,\n",
    "                             save_best_only=True)"
   ]
  },
  {
   "cell_type": "code",
   "execution_count": 15,
   "metadata": {},
   "outputs": [
    {
     "name": "stdout",
     "output_type": "stream",
     "text": [
      "Epoch 1/300\n",
      "198/198 [==============================] - ETA: 0s - loss: 0.9031 - accuracy: 0.6033\n",
      "Epoch 1: val_loss improved from inf to 1.15627, saving model to random_0.h5\n",
      "198/198 [==============================] - 26s 98ms/step - loss: 0.9031 - accuracy: 0.6033 - val_loss: 1.1563 - val_accuracy: 0.5964 - lr: 0.0010\n",
      "Epoch 2/300\n",
      "197/198 [============================>.] - ETA: 0s - loss: 0.7289 - accuracy: 0.7066\n",
      "Epoch 2: val_loss improved from 1.15627 to 0.74352, saving model to random_0.h5\n",
      "198/198 [==============================] - 16s 81ms/step - loss: 0.7286 - accuracy: 0.7068 - val_loss: 0.7435 - val_accuracy: 0.7029 - lr: 0.0010\n",
      "Epoch 3/300\n",
      "197/198 [============================>.] - ETA: 0s - loss: 0.6450 - accuracy: 0.7405\n",
      "Epoch 3: val_loss improved from 0.74352 to 0.65636, saving model to random_0.h5\n",
      "198/198 [==============================] - 15s 78ms/step - loss: 0.6447 - accuracy: 0.7406 - val_loss: 0.6564 - val_accuracy: 0.7317 - lr: 0.0010\n",
      "Epoch 4/300\n",
      "197/198 [============================>.] - ETA: 0s - loss: 0.6004 - accuracy: 0.7574\n",
      "Epoch 4: val_loss improved from 0.65636 to 0.59515, saving model to random_0.h5\n",
      "198/198 [==============================] - 16s 80ms/step - loss: 0.6002 - accuracy: 0.7575 - val_loss: 0.5952 - val_accuracy: 0.7517 - lr: 0.0010\n",
      "Epoch 5/300\n",
      "197/198 [============================>.] - ETA: 0s - loss: 0.5660 - accuracy: 0.7710\n",
      "Epoch 5: val_loss improved from 0.59515 to 0.56964, saving model to random_0.h5\n",
      "198/198 [==============================] - 17s 84ms/step - loss: 0.5658 - accuracy: 0.7710 - val_loss: 0.5696 - val_accuracy: 0.7650 - lr: 0.0010\n",
      "Epoch 6/300\n",
      "197/198 [============================>.] - ETA: 0s - loss: 0.5459 - accuracy: 0.7800\n",
      "Epoch 6: val_loss did not improve from 0.56964\n",
      "198/198 [==============================] - 17s 87ms/step - loss: 0.5457 - accuracy: 0.7801 - val_loss: 0.5839 - val_accuracy: 0.7678 - lr: 0.0010\n",
      "Epoch 7/300\n",
      "197/198 [============================>.] - ETA: 0s - loss: 0.5269 - accuracy: 0.7889\n",
      "Epoch 7: val_loss improved from 0.56964 to 0.55911, saving model to random_0.h5\n",
      "198/198 [==============================] - 16s 79ms/step - loss: 0.5267 - accuracy: 0.7889 - val_loss: 0.5591 - val_accuracy: 0.7771 - lr: 0.0010\n",
      "Epoch 8/300\n",
      "197/198 [============================>.] - ETA: 0s - loss: 0.5111 - accuracy: 0.7954\n",
      "Epoch 8: val_loss improved from 0.55911 to 0.54666, saving model to random_0.h5\n",
      "198/198 [==============================] - 16s 79ms/step - loss: 0.5109 - accuracy: 0.7955 - val_loss: 0.5467 - val_accuracy: 0.7829 - lr: 0.0010\n",
      "Epoch 9/300\n",
      "197/198 [============================>.] - ETA: 0s - loss: 0.4975 - accuracy: 0.8014\n",
      "Epoch 9: val_loss did not improve from 0.54666\n",
      "198/198 [==============================] - 16s 79ms/step - loss: 0.4973 - accuracy: 0.8015 - val_loss: 0.5469 - val_accuracy: 0.7823 - lr: 0.0010\n",
      "Epoch 10/300\n",
      "197/198 [============================>.] - ETA: 0s - loss: 0.4865 - accuracy: 0.8055\n",
      "Epoch 10: val_loss improved from 0.54666 to 0.52404, saving model to random_0.h5\n",
      "198/198 [==============================] - 16s 79ms/step - loss: 0.4863 - accuracy: 0.8056 - val_loss: 0.5240 - val_accuracy: 0.7888 - lr: 0.0010\n",
      "Epoch 11/300\n",
      "197/198 [============================>.] - ETA: 0s - loss: 0.4718 - accuracy: 0.8121\n",
      "Epoch 11: val_loss improved from 0.52404 to 0.51632, saving model to random_0.h5\n",
      "198/198 [==============================] - 16s 79ms/step - loss: 0.4716 - accuracy: 0.8122 - val_loss: 0.5163 - val_accuracy: 0.7940 - lr: 0.0010\n",
      "Epoch 12/300\n",
      "197/198 [============================>.] - ETA: 0s - loss: 0.4654 - accuracy: 0.8145\n",
      "Epoch 12: val_loss improved from 0.51632 to 0.50082, saving model to random_0.h5\n",
      "198/198 [==============================] - 16s 79ms/step - loss: 0.4653 - accuracy: 0.8146 - val_loss: 0.5008 - val_accuracy: 0.7994 - lr: 0.0010\n",
      "Epoch 13/300\n",
      "197/198 [============================>.] - ETA: 0s - loss: 0.4577 - accuracy: 0.8180\n",
      "Epoch 13: val_loss improved from 0.50082 to 0.49090, saving model to random_0.h5\n",
      "198/198 [==============================] - 16s 79ms/step - loss: 0.4575 - accuracy: 0.8181 - val_loss: 0.4909 - val_accuracy: 0.8026 - lr: 0.0010\n",
      "Epoch 14/300\n",
      "197/198 [============================>.] - ETA: 0s - loss: 0.4541 - accuracy: 0.8190\n",
      "Epoch 14: val_loss improved from 0.49090 to 0.48997, saving model to random_0.h5\n",
      "198/198 [==============================] - 16s 79ms/step - loss: 0.4540 - accuracy: 0.8191 - val_loss: 0.4900 - val_accuracy: 0.8039 - lr: 0.0010\n",
      "Epoch 15/300\n",
      "197/198 [============================>.] - ETA: 0s - loss: 0.4437 - accuracy: 0.8235\n",
      "Epoch 15: val_loss improved from 0.48997 to 0.47997, saving model to random_0.h5\n",
      "198/198 [==============================] - 16s 79ms/step - loss: 0.4435 - accuracy: 0.8235 - val_loss: 0.4800 - val_accuracy: 0.8059 - lr: 0.0010\n",
      "Epoch 16/300\n",
      "197/198 [============================>.] - ETA: 0s - loss: 0.4384 - accuracy: 0.8251\n",
      "Epoch 16: val_loss improved from 0.47997 to 0.47603, saving model to random_0.h5\n",
      "198/198 [==============================] - 16s 79ms/step - loss: 0.4382 - accuracy: 0.8252 - val_loss: 0.4760 - val_accuracy: 0.8091 - lr: 0.0010\n",
      "Epoch 17/300\n",
      "197/198 [============================>.] - ETA: 0s - loss: 0.4377 - accuracy: 0.8247\n",
      "Epoch 17: val_loss improved from 0.47603 to 0.47446, saving model to random_0.h5\n",
      "198/198 [==============================] - 16s 79ms/step - loss: 0.4376 - accuracy: 0.8248 - val_loss: 0.4745 - val_accuracy: 0.8091 - lr: 0.0010\n",
      "Epoch 18/300\n",
      "197/198 [============================>.] - ETA: 0s - loss: 0.4261 - accuracy: 0.8297\n",
      "Epoch 18: val_loss improved from 0.47446 to 0.47319, saving model to random_0.h5\n",
      "198/198 [==============================] - 16s 79ms/step - loss: 0.4259 - accuracy: 0.8298 - val_loss: 0.4732 - val_accuracy: 0.8106 - lr: 0.0010\n",
      "Epoch 19/300\n",
      "197/198 [============================>.] - ETA: 0s - loss: 0.4192 - accuracy: 0.8327\n",
      "Epoch 19: val_loss did not improve from 0.47319\n",
      "198/198 [==============================] - 16s 78ms/step - loss: 0.4190 - accuracy: 0.8328 - val_loss: 0.4809 - val_accuracy: 0.8082 - lr: 0.0010\n",
      "Epoch 20/300\n",
      "197/198 [============================>.] - ETA: 0s - loss: 0.4162 - accuracy: 0.8337\n",
      "Epoch 20: val_loss did not improve from 0.47319\n",
      "198/198 [==============================] - 16s 78ms/step - loss: 0.4161 - accuracy: 0.8337 - val_loss: 0.4970 - val_accuracy: 0.8003 - lr: 0.0010\n",
      "Epoch 21/300\n",
      "197/198 [============================>.] - ETA: 0s - loss: 0.4149 - accuracy: 0.8340\n",
      "Epoch 21: ReduceLROnPlateau reducing learning rate to 0.0006000000284984708.\n",
      "\n",
      "Epoch 21: val_loss did not improve from 0.47319\n",
      "198/198 [==============================] - 16s 78ms/step - loss: 0.4147 - accuracy: 0.8341 - val_loss: 0.4913 - val_accuracy: 0.8005 - lr: 0.0010\n",
      "Epoch 22/300\n",
      "197/198 [============================>.] - ETA: 0s - loss: 0.4041 - accuracy: 0.8387\n",
      "Epoch 22: val_loss did not improve from 0.47319\n",
      "198/198 [==============================] - 16s 78ms/step - loss: 0.4040 - accuracy: 0.8388 - val_loss: 0.4814 - val_accuracy: 0.8092 - lr: 6.0000e-04\n",
      "Epoch 23/300\n",
      "197/198 [============================>.] - ETA: 0s - loss: 0.3953 - accuracy: 0.8427\n",
      "Epoch 23: val_loss did not improve from 0.47319\n",
      "198/198 [==============================] - 16s 78ms/step - loss: 0.3951 - accuracy: 0.8428 - val_loss: 0.4782 - val_accuracy: 0.8116 - lr: 6.0000e-04\n",
      "Epoch 24/300\n",
      "197/198 [============================>.] - ETA: 0s - loss: 0.3874 - accuracy: 0.8458\n",
      "Epoch 24: ReduceLROnPlateau reducing learning rate to 0.0003600000170990825.\n",
      "\n",
      "Epoch 24: val_loss did not improve from 0.47319\n",
      "198/198 [==============================] - 16s 79ms/step - loss: 0.3872 - accuracy: 0.8459 - val_loss: 0.4751 - val_accuracy: 0.8137 - lr: 6.0000e-04\n",
      "Epoch 25/300\n",
      "197/198 [============================>.] - ETA: 0s - loss: 0.3740 - accuracy: 0.8511\n",
      "Epoch 25: val_loss did not improve from 0.47319\n",
      "198/198 [==============================] - 16s 79ms/step - loss: 0.3738 - accuracy: 0.8512 - val_loss: 0.4814 - val_accuracy: 0.8101 - lr: 3.6000e-04\n",
      "Epoch 26/300\n",
      "197/198 [============================>.] - ETA: 0s - loss: 0.3684 - accuracy: 0.8534\n",
      "Epoch 26: val_loss did not improve from 0.47319\n",
      "198/198 [==============================] - 16s 78ms/step - loss: 0.3682 - accuracy: 0.8535 - val_loss: 0.4812 - val_accuracy: 0.8112 - lr: 3.6000e-04\n",
      "Epoch 27/300\n",
      "197/198 [============================>.] - ETA: 0s - loss: 0.3625 - accuracy: 0.8558\n",
      "Epoch 27: ReduceLROnPlateau reducing learning rate to 0.00021600000327453016.\n",
      "\n",
      "Epoch 27: val_loss did not improve from 0.47319\n",
      "198/198 [==============================] - 16s 79ms/step - loss: 0.3624 - accuracy: 0.8559 - val_loss: 0.4799 - val_accuracy: 0.8128 - lr: 3.6000e-04\n",
      "Epoch 28/300\n",
      "197/198 [============================>.] - ETA: 0s - loss: 0.3564 - accuracy: 0.8581\n",
      "Epoch 28: val_loss improved from 0.47319 to 0.45866, saving model to random_0.h5\n",
      "198/198 [==============================] - 16s 79ms/step - loss: 0.3562 - accuracy: 0.8582 - val_loss: 0.4587 - val_accuracy: 0.8216 - lr: 2.1600e-04\n",
      "Epoch 29/300\n",
      "197/198 [============================>.] - ETA: 0s - loss: 0.3496 - accuracy: 0.8607\n",
      "Epoch 29: val_loss did not improve from 0.45866\n",
      "198/198 [==============================] - 16s 79ms/step - loss: 0.3495 - accuracy: 0.8607 - val_loss: 0.4599 - val_accuracy: 0.8221 - lr: 2.1600e-04\n",
      "Epoch 30/300\n",
      "197/198 [============================>.] - ETA: 0s - loss: 0.3450 - accuracy: 0.8625\n",
      "Epoch 30: val_loss did not improve from 0.45866\n",
      "198/198 [==============================] - 16s 79ms/step - loss: 0.3449 - accuracy: 0.8625 - val_loss: 0.4608 - val_accuracy: 0.8224 - lr: 2.1600e-04\n",
      "Epoch 31/300\n",
      "197/198 [============================>.] - ETA: 0s - loss: 0.3408 - accuracy: 0.8641\n",
      "Epoch 31: ReduceLROnPlateau reducing learning rate to 0.00012960000021848827.\n",
      "\n",
      "Epoch 31: val_loss did not improve from 0.45866\n",
      "198/198 [==============================] - 16s 79ms/step - loss: 0.3407 - accuracy: 0.8642 - val_loss: 0.4622 - val_accuracy: 0.8226 - lr: 2.1600e-04\n",
      "Epoch 32/300\n",
      "197/198 [============================>.] - ETA: 0s - loss: 0.3361 - accuracy: 0.8661\n",
      "Epoch 32: val_loss improved from 0.45866 to 0.45144, saving model to random_0.h5\n",
      "198/198 [==============================] - 16s 79ms/step - loss: 0.3359 - accuracy: 0.8662 - val_loss: 0.4514 - val_accuracy: 0.8262 - lr: 1.2960e-04\n",
      "Epoch 33/300\n",
      "197/198 [============================>.] - ETA: 0s - loss: 0.3324 - accuracy: 0.8675\n",
      "Epoch 33: val_loss did not improve from 0.45144\n",
      "198/198 [==============================] - 16s 78ms/step - loss: 0.3323 - accuracy: 0.8676 - val_loss: 0.4526 - val_accuracy: 0.8262 - lr: 1.2960e-04\n",
      "Epoch 34/300\n",
      "197/198 [============================>.] - ETA: 0s - loss: 0.3293 - accuracy: 0.8688\n",
      "Epoch 34: val_loss did not improve from 0.45144\n",
      "198/198 [==============================] - 16s 78ms/step - loss: 0.3291 - accuracy: 0.8688 - val_loss: 0.4544 - val_accuracy: 0.8262 - lr: 1.2960e-04\n",
      "Epoch 35/300\n",
      "197/198 [============================>.] - ETA: 0s - loss: 0.3263 - accuracy: 0.8699\n",
      "Epoch 35: ReduceLROnPlateau reducing learning rate to 7.775999838486313e-05.\n",
      "\n",
      "Epoch 35: val_loss did not improve from 0.45144\n",
      "198/198 [==============================] - 16s 78ms/step - loss: 0.3262 - accuracy: 0.8700 - val_loss: 0.4563 - val_accuracy: 0.8261 - lr: 1.2960e-04\n",
      "Epoch 36/300\n",
      "197/198 [============================>.] - ETA: 0s - loss: 0.3226 - accuracy: 0.8715\n",
      "Epoch 36: val_loss improved from 0.45144 to 0.45117, saving model to random_0.h5\n",
      "198/198 [==============================] - 16s 79ms/step - loss: 0.3224 - accuracy: 0.8715 - val_loss: 0.4512 - val_accuracy: 0.8272 - lr: 7.7760e-05\n",
      "Epoch 37/300\n",
      "197/198 [============================>.] - ETA: 0s - loss: 0.3201 - accuracy: 0.8724\n",
      "Epoch 37: val_loss did not improve from 0.45117\n",
      "198/198 [==============================] - 16s 79ms/step - loss: 0.3200 - accuracy: 0.8725 - val_loss: 0.4520 - val_accuracy: 0.8273 - lr: 7.7760e-05\n",
      "Epoch 38/300\n",
      "197/198 [============================>.] - ETA: 0s - loss: 0.3180 - accuracy: 0.8733\n",
      "Epoch 38: val_loss did not improve from 0.45117\n",
      "198/198 [==============================] - 16s 78ms/step - loss: 0.3179 - accuracy: 0.8733 - val_loss: 0.4532 - val_accuracy: 0.8273 - lr: 7.7760e-05\n",
      "Epoch 39/300\n",
      "197/198 [============================>.] - ETA: 0s - loss: 0.3161 - accuracy: 0.8740\n",
      "Epoch 39: ReduceLROnPlateau reducing learning rate to 4.6655999904032795e-05.\n",
      "\n",
      "Epoch 39: val_loss did not improve from 0.45117\n",
      "198/198 [==============================] - 16s 78ms/step - loss: 0.3159 - accuracy: 0.8741 - val_loss: 0.4542 - val_accuracy: 0.8273 - lr: 7.7760e-05\n",
      "Epoch 40/300\n",
      "197/198 [============================>.] - ETA: 0s - loss: 0.3136 - accuracy: 0.8752\n",
      "Epoch 40: val_loss did not improve from 0.45117\n",
      "198/198 [==============================] - 16s 78ms/step - loss: 0.3134 - accuracy: 0.8752 - val_loss: 0.4514 - val_accuracy: 0.8280 - lr: 4.6656e-05\n",
      "Epoch 41/300\n",
      "197/198 [============================>.] - ETA: 0s - loss: 0.3121 - accuracy: 0.8758\n",
      "Epoch 41: val_loss did not improve from 0.45117\n",
      "198/198 [==============================] - 16s 78ms/step - loss: 0.3119 - accuracy: 0.8759 - val_loss: 0.4519 - val_accuracy: 0.8282 - lr: 4.6656e-05\n",
      "Epoch 42/300\n",
      "197/198 [============================>.] - ETA: 0s - loss: 0.3108 - accuracy: 0.8763\n",
      "Epoch 42: ReduceLROnPlateau reducing learning rate to 2.799360081553459e-05.\n",
      "\n",
      "Epoch 42: val_loss did not improve from 0.45117\n",
      "198/198 [==============================] - 16s 78ms/step - loss: 0.3106 - accuracy: 0.8764 - val_loss: 0.4526 - val_accuracy: 0.8282 - lr: 4.6656e-05\n",
      "Epoch 43/300\n",
      "197/198 [============================>.] - ETA: 0s - loss: 0.3092 - accuracy: 0.8770\n",
      "Epoch 43: val_loss improved from 0.45117 to 0.44972, saving model to random_0.h5\n",
      "198/198 [==============================] - 16s 79ms/step - loss: 0.3091 - accuracy: 0.8771 - val_loss: 0.4497 - val_accuracy: 0.8293 - lr: 2.7994e-05\n",
      "Epoch 44/300\n",
      "197/198 [============================>.] - ETA: 0s - loss: 0.3082 - accuracy: 0.8774\n",
      "Epoch 44: val_loss did not improve from 0.44972\n",
      "198/198 [==============================] - 16s 79ms/step - loss: 0.3081 - accuracy: 0.8775 - val_loss: 0.4500 - val_accuracy: 0.8293 - lr: 2.7994e-05\n",
      "Epoch 45/300\n",
      "197/198 [============================>.] - ETA: 0s - loss: 0.3074 - accuracy: 0.8778\n",
      "Epoch 45: val_loss did not improve from 0.44972\n",
      "198/198 [==============================] - 16s 78ms/step - loss: 0.3072 - accuracy: 0.8778 - val_loss: 0.4504 - val_accuracy: 0.8294 - lr: 2.7994e-05\n",
      "Epoch 46/300\n",
      "197/198 [============================>.] - ETA: 0s - loss: 0.3066 - accuracy: 0.8781\n",
      "Epoch 46: ReduceLROnPlateau reducing learning rate to 1.6796160707599483e-05.\n",
      "\n",
      "Epoch 46: val_loss did not improve from 0.44972\n",
      "198/198 [==============================] - 16s 78ms/step - loss: 0.3065 - accuracy: 0.8781 - val_loss: 0.4508 - val_accuracy: 0.8294 - lr: 2.7994e-05\n",
      "Epoch 47/300\n",
      "197/198 [============================>.] - ETA: 0s - loss: 0.3058 - accuracy: 0.8785\n",
      "Epoch 47: val_loss improved from 0.44972 to 0.44837, saving model to random_0.h5\n",
      "198/198 [==============================] - 16s 79ms/step - loss: 0.3057 - accuracy: 0.8785 - val_loss: 0.4484 - val_accuracy: 0.8304 - lr: 1.6796e-05\n",
      "Epoch 48/300\n",
      "197/198 [============================>.] - ETA: 0s - loss: 0.3049 - accuracy: 0.8788\n",
      "Epoch 48: val_loss did not improve from 0.44837\n",
      "198/198 [==============================] - 16s 78ms/step - loss: 0.3048 - accuracy: 0.8789 - val_loss: 0.4486 - val_accuracy: 0.8304 - lr: 1.6796e-05\n",
      "Epoch 49/300\n",
      "197/198 [============================>.] - ETA: 0s - loss: 0.3044 - accuracy: 0.8790\n",
      "Epoch 49: val_loss did not improve from 0.44837\n",
      "198/198 [==============================] - 16s 78ms/step - loss: 0.3042 - accuracy: 0.8791 - val_loss: 0.4488 - val_accuracy: 0.8305 - lr: 1.6796e-05\n",
      "Epoch 50/300\n",
      "197/198 [============================>.] - ETA: 0s - loss: 0.3039 - accuracy: 0.8792\n",
      "Epoch 50: ReduceLROnPlateau reducing learning rate to 1.007769642455969e-05.\n",
      "\n",
      "Epoch 50: val_loss did not improve from 0.44837\n",
      "198/198 [==============================] - 16s 79ms/step - loss: 0.3038 - accuracy: 0.8793 - val_loss: 0.4491 - val_accuracy: 0.8305 - lr: 1.6796e-05\n",
      "Epoch 51/300\n",
      "197/198 [============================>.] - ETA: 0s - loss: 0.3032 - accuracy: 0.8796\n",
      "Epoch 51: val_loss did not improve from 0.44837\n",
      "198/198 [==============================] - 16s 79ms/step - loss: 0.3030 - accuracy: 0.8796 - val_loss: 0.4494 - val_accuracy: 0.8309 - lr: 1.0078e-05\n",
      "Epoch 52/300\n",
      "197/198 [============================>.] - ETA: 0s - loss: 0.3025 - accuracy: 0.8798\n",
      "Epoch 52: val_loss did not improve from 0.44837\n",
      "198/198 [==============================] - 16s 78ms/step - loss: 0.3024 - accuracy: 0.8799 - val_loss: 0.4494 - val_accuracy: 0.8310 - lr: 1.0078e-05\n",
      "Epoch 53/300\n",
      "197/198 [============================>.] - ETA: 0s - loss: 0.3022 - accuracy: 0.8800\n",
      "Epoch 53: ReduceLROnPlateau reducing learning rate to 1e-05.\n",
      "\n",
      "Epoch 53: val_loss did not improve from 0.44837\n",
      "198/198 [==============================] - 15s 78ms/step - loss: 0.3020 - accuracy: 0.8800 - val_loss: 0.4496 - val_accuracy: 0.8310 - lr: 1.0078e-05\n",
      "Epoch 54/300\n",
      "197/198 [============================>.] - ETA: 0s - loss: 0.3019 - accuracy: 0.8801\n",
      "Epoch 54: val_loss did not improve from 0.44837\n",
      "198/198 [==============================] - 16s 79ms/step - loss: 0.3017 - accuracy: 0.8801 - val_loss: 0.4498 - val_accuracy: 0.8310 - lr: 1.0000e-05\n",
      "Epoch 55/300\n",
      "197/198 [============================>.] - ETA: 0s - loss: 0.3016 - accuracy: 0.8802\n",
      "Epoch 55: val_loss did not improve from 0.44837\n",
      "198/198 [==============================] - 16s 79ms/step - loss: 0.3014 - accuracy: 0.8803 - val_loss: 0.4500 - val_accuracy: 0.8310 - lr: 1.0000e-05\n",
      "Epoch 56/300\n",
      "197/198 [============================>.] - ETA: 0s - loss: 0.3013 - accuracy: 0.8803\n",
      "Epoch 56: val_loss did not improve from 0.44837\n",
      "198/198 [==============================] - 16s 79ms/step - loss: 0.3012 - accuracy: 0.8804 - val_loss: 0.4501 - val_accuracy: 0.8310 - lr: 1.0000e-05\n",
      "Epoch 57/300\n",
      "197/198 [============================>.] - ETA: 0s - loss: 0.3010 - accuracy: 0.8804\n",
      "Epoch 57: val_loss did not improve from 0.44837\n",
      "198/198 [==============================] - 16s 78ms/step - loss: 0.3009 - accuracy: 0.8805 - val_loss: 0.4503 - val_accuracy: 0.8310 - lr: 1.0000e-05\n",
      "Epoch 58/300\n",
      "197/198 [============================>.] - ETA: 0s - loss: 0.3007 - accuracy: 0.8805\n",
      "Epoch 58: val_loss did not improve from 0.44837\n",
      "198/198 [==============================] - 16s 79ms/step - loss: 0.3006 - accuracy: 0.8806 - val_loss: 0.4505 - val_accuracy: 0.8310 - lr: 1.0000e-05\n",
      "Epoch 59/300\n",
      "197/198 [============================>.] - ETA: 0s - loss: 0.3005 - accuracy: 0.8807\n",
      "Epoch 59: val_loss did not improve from 0.44837\n",
      "198/198 [==============================] - 16s 79ms/step - loss: 0.3003 - accuracy: 0.8807 - val_loss: 0.4507 - val_accuracy: 0.8310 - lr: 1.0000e-05\n",
      "Epoch 60/300\n",
      "197/198 [============================>.] - ETA: 0s - loss: 0.3002 - accuracy: 0.8808\n",
      "Epoch 60: val_loss did not improve from 0.44837\n",
      "198/198 [==============================] - 16s 79ms/step - loss: 0.3001 - accuracy: 0.8808 - val_loss: 0.4509 - val_accuracy: 0.8310 - lr: 1.0000e-05\n",
      "Epoch 61/300\n",
      "197/198 [============================>.] - ETA: 0s - loss: 0.2999 - accuracy: 0.8809\n",
      "Epoch 61: val_loss did not improve from 0.44837\n",
      "198/198 [==============================] - 16s 78ms/step - loss: 0.2998 - accuracy: 0.8809 - val_loss: 0.4510 - val_accuracy: 0.8310 - lr: 1.0000e-05\n",
      "Epoch 62/300\n",
      "197/198 [============================>.] - ETA: 0s - loss: 0.2997 - accuracy: 0.8810\n",
      "Epoch 62: val_loss did not improve from 0.44837\n",
      "198/198 [==============================] - 16s 78ms/step - loss: 0.2995 - accuracy: 0.8810 - val_loss: 0.4512 - val_accuracy: 0.8310 - lr: 1.0000e-05\n",
      "Epoch 63/300\n",
      "197/198 [============================>.] - ETA: 0s - loss: 0.2994 - accuracy: 0.8811\n",
      "Epoch 63: val_loss did not improve from 0.44837\n",
      "198/198 [==============================] - 16s 78ms/step - loss: 0.2993 - accuracy: 0.8812 - val_loss: 0.4514 - val_accuracy: 0.8310 - lr: 1.0000e-05\n",
      "Epoch 64/300\n",
      "197/198 [============================>.] - ETA: 0s - loss: 0.2992 - accuracy: 0.8812\n",
      "Epoch 64: val_loss did not improve from 0.44837\n",
      "198/198 [==============================] - 16s 78ms/step - loss: 0.2990 - accuracy: 0.8813 - val_loss: 0.4516 - val_accuracy: 0.8310 - lr: 1.0000e-05\n",
      "Epoch 65/300\n",
      "197/198 [============================>.] - ETA: 0s - loss: 0.2989 - accuracy: 0.8813\n",
      "Epoch 65: val_loss did not improve from 0.44837\n",
      "198/198 [==============================] - 16s 78ms/step - loss: 0.2987 - accuracy: 0.8814 - val_loss: 0.4517 - val_accuracy: 0.8310 - lr: 1.0000e-05\n",
      "Epoch 66/300\n",
      "197/198 [============================>.] - ETA: 0s - loss: 0.2986 - accuracy: 0.8814\n",
      "Epoch 66: val_loss did not improve from 0.44837\n",
      "198/198 [==============================] - 16s 79ms/step - loss: 0.2985 - accuracy: 0.8815 - val_loss: 0.4519 - val_accuracy: 0.8309 - lr: 1.0000e-05\n",
      "Epoch 67/300\n",
      "197/198 [============================>.] - ETA: 0s - loss: 0.2984 - accuracy: 0.8815\n",
      "Epoch 67: val_loss did not improve from 0.44837\n",
      "198/198 [==============================] - 16s 79ms/step - loss: 0.2982 - accuracy: 0.8816 - val_loss: 0.4521 - val_accuracy: 0.8309 - lr: 1.0000e-05\n",
      "Epoch 68/300\n",
      "197/198 [============================>.] - ETA: 0s - loss: 0.2981 - accuracy: 0.8816\n",
      "Epoch 68: val_loss did not improve from 0.44837\n",
      "198/198 [==============================] - 16s 78ms/step - loss: 0.2980 - accuracy: 0.8817 - val_loss: 0.4523 - val_accuracy: 0.8309 - lr: 1.0000e-05\n",
      "Epoch 69/300\n",
      "197/198 [============================>.] - ETA: 0s - loss: 0.2979 - accuracy: 0.8817\n",
      "Epoch 69: val_loss did not improve from 0.44837\n",
      "198/198 [==============================] - 16s 78ms/step - loss: 0.2977 - accuracy: 0.8818 - val_loss: 0.4524 - val_accuracy: 0.8309 - lr: 1.0000e-05\n",
      "Epoch 70/300\n",
      "197/198 [============================>.] - ETA: 0s - loss: 0.2976 - accuracy: 0.8818\n",
      "Epoch 70: val_loss did not improve from 0.44837\n",
      "198/198 [==============================] - 16s 78ms/step - loss: 0.2975 - accuracy: 0.8819 - val_loss: 0.4526 - val_accuracy: 0.8309 - lr: 1.0000e-05\n",
      "Epoch 71/300\n",
      "197/198 [============================>.] - ETA: 0s - loss: 0.2974 - accuracy: 0.8819\n",
      "Epoch 71: val_loss did not improve from 0.44837\n",
      "198/198 [==============================] - 16s 78ms/step - loss: 0.2972 - accuracy: 0.8820 - val_loss: 0.4528 - val_accuracy: 0.8309 - lr: 1.0000e-05\n",
      "Epoch 72/300\n",
      "197/198 [============================>.] - ETA: 0s - loss: 0.2971 - accuracy: 0.8820\n",
      "Epoch 72: val_loss did not improve from 0.44837\n",
      "198/198 [==============================] - 16s 78ms/step - loss: 0.2970 - accuracy: 0.8821 - val_loss: 0.4530 - val_accuracy: 0.8309 - lr: 1.0000e-05\n",
      "Epoch 73/300\n",
      "197/198 [============================>.] - ETA: 0s - loss: 0.2969 - accuracy: 0.8821\n",
      "Epoch 73: val_loss did not improve from 0.44837\n",
      "198/198 [==============================] - 16s 78ms/step - loss: 0.2967 - accuracy: 0.8822 - val_loss: 0.4532 - val_accuracy: 0.8309 - lr: 1.0000e-05\n",
      "Epoch 74/300\n",
      "197/198 [============================>.] - ETA: 0s - loss: 0.2966 - accuracy: 0.8822\n",
      "Epoch 74: val_loss did not improve from 0.44837\n",
      "198/198 [==============================] - 16s 78ms/step - loss: 0.2965 - accuracy: 0.8823 - val_loss: 0.4534 - val_accuracy: 0.8309 - lr: 1.0000e-05\n",
      "Epoch 75/300\n",
      "197/198 [============================>.] - ETA: 0s - loss: 0.2964 - accuracy: 0.8824\n",
      "Epoch 75: val_loss did not improve from 0.44837\n",
      "198/198 [==============================] - 16s 79ms/step - loss: 0.2962 - accuracy: 0.8824 - val_loss: 0.4535 - val_accuracy: 0.8309 - lr: 1.0000e-05\n",
      "Epoch 76/300\n",
      "197/198 [============================>.] - ETA: 0s - loss: 0.2961 - accuracy: 0.8825\n",
      "Epoch 76: val_loss did not improve from 0.44837\n",
      "198/198 [==============================] - 16s 79ms/step - loss: 0.2960 - accuracy: 0.8825 - val_loss: 0.4537 - val_accuracy: 0.8309 - lr: 1.0000e-05\n",
      "Epoch 77/300\n",
      "197/198 [============================>.] - ETA: 0s - loss: 0.2959 - accuracy: 0.8826\n",
      "Epoch 77: val_loss did not improve from 0.44837\n",
      "198/198 [==============================] - 16s 79ms/step - loss: 0.2957 - accuracy: 0.8826 - val_loss: 0.4539 - val_accuracy: 0.8309 - lr: 1.0000e-05\n",
      "Epoch 78/300\n",
      "197/198 [============================>.] - ETA: 0s - loss: 0.2956 - accuracy: 0.8827\n",
      "Epoch 78: val_loss did not improve from 0.44837\n",
      "198/198 [==============================] - 16s 79ms/step - loss: 0.2955 - accuracy: 0.8827 - val_loss: 0.4541 - val_accuracy: 0.8309 - lr: 1.0000e-05\n",
      "Epoch 79/300\n",
      "197/198 [============================>.] - ETA: 0s - loss: 0.2954 - accuracy: 0.8828\n",
      "Epoch 79: val_loss did not improve from 0.44837\n",
      "198/198 [==============================] - 16s 79ms/step - loss: 0.2952 - accuracy: 0.8828 - val_loss: 0.4543 - val_accuracy: 0.8309 - lr: 1.0000e-05\n",
      "Epoch 80/300\n",
      "197/198 [============================>.] - ETA: 0s - loss: 0.2951 - accuracy: 0.8829\n",
      "Epoch 80: val_loss did not improve from 0.44837\n",
      "198/198 [==============================] - 16s 79ms/step - loss: 0.2950 - accuracy: 0.8829 - val_loss: 0.4544 - val_accuracy: 0.8309 - lr: 1.0000e-05\n",
      "Epoch 81/300\n",
      "197/198 [============================>.] - ETA: 0s - loss: 0.2949 - accuracy: 0.8830\n",
      "Epoch 81: val_loss did not improve from 0.44837\n",
      "198/198 [==============================] - 16s 79ms/step - loss: 0.2947 - accuracy: 0.8830 - val_loss: 0.4546 - val_accuracy: 0.8309 - lr: 1.0000e-05\n",
      "Epoch 82/300\n",
      "197/198 [============================>.] - ETA: 0s - loss: 0.2946 - accuracy: 0.8831\n",
      "Epoch 82: val_loss did not improve from 0.44837\n",
      "198/198 [==============================] - 16s 79ms/step - loss: 0.2945 - accuracy: 0.8831 - val_loss: 0.4548 - val_accuracy: 0.8309 - lr: 1.0000e-05\n",
      "Epoch 83/300\n",
      "197/198 [============================>.] - ETA: 0s - loss: 0.2944 - accuracy: 0.8832\n",
      "Epoch 83: val_loss did not improve from 0.44837\n",
      "198/198 [==============================] - 16s 79ms/step - loss: 0.2942 - accuracy: 0.8832 - val_loss: 0.4550 - val_accuracy: 0.8309 - lr: 1.0000e-05\n",
      "Epoch 84/300\n",
      "197/198 [============================>.] - ETA: 0s - loss: 0.2941 - accuracy: 0.8833\n",
      "Epoch 84: val_loss did not improve from 0.44837\n",
      "198/198 [==============================] - 16s 79ms/step - loss: 0.2940 - accuracy: 0.8833 - val_loss: 0.4551 - val_accuracy: 0.8309 - lr: 1.0000e-05\n",
      "Epoch 85/300\n",
      "197/198 [============================>.] - ETA: 0s - loss: 0.2939 - accuracy: 0.8834\n",
      "Epoch 85: val_loss did not improve from 0.44837\n",
      "198/198 [==============================] - 16s 78ms/step - loss: 0.2938 - accuracy: 0.8834 - val_loss: 0.4553 - val_accuracy: 0.8308 - lr: 1.0000e-05\n",
      "Epoch 86/300\n",
      "197/198 [============================>.] - ETA: 0s - loss: 0.2937 - accuracy: 0.8835\n",
      "Epoch 86: val_loss did not improve from 0.44837\n",
      "198/198 [==============================] - 16s 78ms/step - loss: 0.2935 - accuracy: 0.8835 - val_loss: 0.4555 - val_accuracy: 0.8308 - lr: 1.0000e-05\n",
      "Epoch 87/300\n",
      "197/198 [============================>.] - ETA: 0s - loss: 0.2934 - accuracy: 0.8836\n",
      "Epoch 87: val_loss did not improve from 0.44837\n",
      "198/198 [==============================] - 16s 79ms/step - loss: 0.2933 - accuracy: 0.8836 - val_loss: 0.4557 - val_accuracy: 0.8308 - lr: 1.0000e-05\n",
      "Epoch 88/300\n",
      "197/198 [============================>.] - ETA: 0s - loss: 0.2932 - accuracy: 0.8837\n",
      "Epoch 88: val_loss did not improve from 0.44837\n",
      "198/198 [==============================] - 16s 79ms/step - loss: 0.2930 - accuracy: 0.8837 - val_loss: 0.4559 - val_accuracy: 0.8308 - lr: 1.0000e-05\n",
      "Epoch 89/300\n",
      "197/198 [============================>.] - ETA: 0s - loss: 0.2929 - accuracy: 0.8838\n",
      "Epoch 89: val_loss did not improve from 0.44837\n",
      "198/198 [==============================] - 16s 78ms/step - loss: 0.2928 - accuracy: 0.8838 - val_loss: 0.4561 - val_accuracy: 0.8308 - lr: 1.0000e-05\n",
      "Epoch 90/300\n",
      "197/198 [============================>.] - ETA: 0s - loss: 0.2927 - accuracy: 0.8839\n",
      "Epoch 90: val_loss did not improve from 0.44837\n",
      "198/198 [==============================] - 16s 79ms/step - loss: 0.2926 - accuracy: 0.8839 - val_loss: 0.4563 - val_accuracy: 0.8308 - lr: 1.0000e-05\n",
      "Epoch 91/300\n",
      "197/198 [============================>.] - ETA: 0s - loss: 0.2925 - accuracy: 0.8839\n",
      "Epoch 91: val_loss did not improve from 0.44837\n",
      "198/198 [==============================] - 16s 78ms/step - loss: 0.2923 - accuracy: 0.8840 - val_loss: 0.4565 - val_accuracy: 0.8308 - lr: 1.0000e-05\n",
      "Epoch 92/300\n",
      "197/198 [============================>.] - ETA: 0s - loss: 0.2922 - accuracy: 0.8840\n",
      "Epoch 92: val_loss did not improve from 0.44837\n",
      "198/198 [==============================] - 16s 79ms/step - loss: 0.2921 - accuracy: 0.8841 - val_loss: 0.4566 - val_accuracy: 0.8308 - lr: 1.0000e-05\n",
      "Epoch 93/300\n",
      "197/198 [============================>.] - ETA: 0s - loss: 0.2920 - accuracy: 0.8841\n",
      "Epoch 93: val_loss did not improve from 0.44837\n",
      "198/198 [==============================] - 16s 79ms/step - loss: 0.2918 - accuracy: 0.8842 - val_loss: 0.4568 - val_accuracy: 0.8308 - lr: 1.0000e-05\n",
      "Epoch 94/300\n",
      "197/198 [============================>.] - ETA: 0s - loss: 0.2918 - accuracy: 0.8842\n",
      "Epoch 94: val_loss did not improve from 0.44837\n",
      "198/198 [==============================] - 16s 78ms/step - loss: 0.2916 - accuracy: 0.8843 - val_loss: 0.4570 - val_accuracy: 0.8308 - lr: 1.0000e-05\n",
      "Epoch 95/300\n",
      "197/198 [============================>.] - ETA: 0s - loss: 0.2915 - accuracy: 0.8843\n",
      "Epoch 95: val_loss did not improve from 0.44837\n",
      "198/198 [==============================] - 16s 78ms/step - loss: 0.2914 - accuracy: 0.8844 - val_loss: 0.4572 - val_accuracy: 0.8308 - lr: 1.0000e-05\n",
      "Epoch 96/300\n",
      "197/198 [============================>.] - ETA: 0s - loss: 0.2913 - accuracy: 0.8844\n",
      "Epoch 96: val_loss did not improve from 0.44837\n",
      "198/198 [==============================] - 16s 79ms/step - loss: 0.2911 - accuracy: 0.8845 - val_loss: 0.4574 - val_accuracy: 0.8308 - lr: 1.0000e-05\n",
      "Epoch 97/300\n",
      "197/198 [============================>.] - ETA: 0s - loss: 0.2911 - accuracy: 0.8845\n",
      "Epoch 97: val_loss did not improve from 0.44837\n",
      "198/198 [==============================] - 16s 79ms/step - loss: 0.2909 - accuracy: 0.8846 - val_loss: 0.4576 - val_accuracy: 0.8308 - lr: 1.0000e-05\n",
      "Epoch 98/300\n",
      "197/198 [============================>.] - ETA: 0s - loss: 0.2908 - accuracy: 0.8846\n",
      "Epoch 98: val_loss did not improve from 0.44837\n",
      "198/198 [==============================] - 16s 79ms/step - loss: 0.2907 - accuracy: 0.8847 - val_loss: 0.4578 - val_accuracy: 0.8308 - lr: 1.0000e-05\n",
      "Epoch 99/300\n",
      "197/198 [============================>.] - ETA: 0s - loss: 0.2906 - accuracy: 0.8847\n",
      "Epoch 99: val_loss did not improve from 0.44837\n",
      "198/198 [==============================] - 16s 79ms/step - loss: 0.2904 - accuracy: 0.8848 - val_loss: 0.4580 - val_accuracy: 0.8308 - lr: 1.0000e-05\n",
      "Epoch 100/300\n",
      "197/198 [============================>.] - ETA: 0s - loss: 0.2904 - accuracy: 0.8848\n",
      "Epoch 100: val_loss did not improve from 0.44837\n",
      "198/198 [==============================] - 16s 78ms/step - loss: 0.2902 - accuracy: 0.8849 - val_loss: 0.4582 - val_accuracy: 0.8307 - lr: 1.0000e-05\n",
      "Epoch 101/300\n",
      "197/198 [============================>.] - ETA: 0s - loss: 0.2901 - accuracy: 0.8849\n",
      "Epoch 101: val_loss did not improve from 0.44837\n",
      "198/198 [==============================] - 16s 79ms/step - loss: 0.2900 - accuracy: 0.8850 - val_loss: 0.4584 - val_accuracy: 0.8307 - lr: 1.0000e-05\n",
      "Epoch 102/300\n",
      "197/198 [============================>.] - ETA: 0s - loss: 0.2899 - accuracy: 0.8850\n",
      "Epoch 102: val_loss did not improve from 0.44837\n",
      "198/198 [==============================] - 16s 79ms/step - loss: 0.2897 - accuracy: 0.8851 - val_loss: 0.4586 - val_accuracy: 0.8307 - lr: 1.0000e-05\n",
      "Epoch 103/300\n",
      "197/198 [============================>.] - ETA: 0s - loss: 0.2897 - accuracy: 0.8851\n",
      "Epoch 103: val_loss did not improve from 0.44837\n",
      "198/198 [==============================] - 16s 79ms/step - loss: 0.2895 - accuracy: 0.8852 - val_loss: 0.4588 - val_accuracy: 0.8307 - lr: 1.0000e-05\n",
      "Epoch 104/300\n",
      "197/198 [============================>.] - ETA: 0s - loss: 0.2894 - accuracy: 0.8852\n",
      "Epoch 104: val_loss did not improve from 0.44837\n",
      "198/198 [==============================] - 16s 79ms/step - loss: 0.2893 - accuracy: 0.8853 - val_loss: 0.4590 - val_accuracy: 0.8307 - lr: 1.0000e-05\n",
      "Epoch 105/300\n",
      "197/198 [============================>.] - ETA: 0s - loss: 0.2892 - accuracy: 0.8853\n",
      "Epoch 105: val_loss did not improve from 0.44837\n",
      "198/198 [==============================] - 16s 79ms/step - loss: 0.2891 - accuracy: 0.8854 - val_loss: 0.4592 - val_accuracy: 0.8307 - lr: 1.0000e-05\n",
      "Epoch 106/300\n",
      "197/198 [============================>.] - ETA: 0s - loss: 0.2890 - accuracy: 0.8854\n",
      "Epoch 106: val_loss did not improve from 0.44837\n",
      "198/198 [==============================] - 16s 79ms/step - loss: 0.2888 - accuracy: 0.8854 - val_loss: 0.4594 - val_accuracy: 0.8307 - lr: 1.0000e-05\n",
      "Epoch 107/300\n",
      "197/198 [============================>.] - ETA: 0s - loss: 0.2887 - accuracy: 0.8855\n",
      "Epoch 107: val_loss did not improve from 0.44837\n",
      "198/198 [==============================] - 15s 77ms/step - loss: 0.2886 - accuracy: 0.8855 - val_loss: 0.4596 - val_accuracy: 0.8307 - lr: 1.0000e-05\n",
      "Epoch 107: early stopping\n"
     ]
    }
   ],
   "source": [
    "history = model.fit(X_train, \n",
    "                 y_train_cat, \n",
    "                 epochs= epochs_num, \n",
    "                 batch_size= batch_size, \n",
    "                 validation_data= (X_test, y_test_cat), \n",
    "                 verbose=1, \n",
    "                 shuffle=False,\n",
    "                 callbacks=[learning_rate_function, earlystop, modelcheck])"
   ]
  },
  {
   "cell_type": "code",
   "execution_count": 16,
   "metadata": {},
   "outputs": [
    {
     "data": {
      "image/png": "[encoded data removed]",
      "text/plain": [
       "<Figure size 640x480 with 1 Axes>"
      ]
     },
     "metadata": {},
     "output_type": "display_data"
    }
   ],
   "source": [
    "# plot the training loss and accuracy\n",
    "plt.style.use(\"ggplot\")\n",
    "plt.figure()\n",
    "N = range(1, len(history.history['loss']) + 1)\n",
    "plt.plot(N, history.history[\"loss\"], label=\"train_loss\")\n",
    "plt.plot(N, history.history[\"val_loss\"], label=\"val_loss\")\n",
    "plt.plot(N, history.history[\"accuracy\"], label=\"train_acc\")\n",
    "plt.plot(N, history.history[\"val_accuracy\"], label=\"val_acc\")\n",
    "plt.title(\"Training Loss and Accuracy\")\n",
    "plt.xlabel(\"Epoch #\")\n",
    "plt.ylabel(\"Loss/Accuracy\")\n",
    "plt.legend(loc=\"upper left\")\n",
    "plt.savefig(f'./U_net_Loss&Accuracy{random_number}.png')"
   ]
  },
  {
   "cell_type": "markdown",
   "metadata": {},
   "source": [
    "--- "
   ]
  },
  {
   "cell_type": "markdown",
   "metadata": {},
   "source": [
    "## 載入模型"
   ]
  },
  {
   "cell_type": "code",
   "execution_count": 13,
   "metadata": {},
   "outputs": [],
   "source": [
    "model.load_weights(f'./{model_name}')\n",
    "############################################################"
   ]
  },
  {
   "cell_type": "code",
   "execution_count": 14,
   "metadata": {},
   "outputs": [
    {
     "name": "stdout",
     "output_type": "stream",
     "text": [
      "99/99 [==============================] - 10s 58ms/step - loss: 0.3053 - accuracy: 0.8785\n",
      "Accuracy is =  87.85374760627747 %\n"
     ]
    }
   ],
   "source": [
    "#Evaluate the model\n",
    "# evaluate model\n",
    "_, acc = model.evaluate(X_train, y_train_cat)\n",
    "print(\"Accuracy is = \", (acc * 100.0), \"%\")"
   ]
  },
  {
   "cell_type": "markdown",
   "metadata": {},
   "source": [
    "## 驗證集預測結果"
   ]
  },
  {
   "cell_type": "code",
   "execution_count": 15,
   "metadata": {},
   "outputs": [
    {
     "name": "stdout",
     "output_type": "stream",
     "text": [
      "25/25 [==============================] - 2s 71ms/step\n"
     ]
    }
   ],
   "source": [
    "##################################\n",
    "#IOU\n",
    "val_y_pred=model.predict(X_test)\n",
    "val_y_pred_argmax=np.argmax(val_y_pred, axis=3)"
   ]
  },
  {
   "cell_type": "code",
   "execution_count": 16,
   "metadata": {},
   "outputs": [
    {
     "name": "stdout",
     "output_type": "stream",
     "text": [
      "Mean IoU = 0.6946981\n"
     ]
    }
   ],
   "source": [
    "#Using built in keras function\n",
    "\n",
    "IOU_keras = MeanIoU(num_classes=n_classes)  \n",
    "IOU_keras.update_state(y_test[:,:,:,0], val_y_pred_argmax)\n",
    "print(\"Mean IoU =\", IOU_keras.result().numpy())"
   ]
  },
  {
   "cell_type": "code",
   "execution_count": 17,
   "metadata": {},
   "outputs": [
    {
     "name": "stdout",
     "output_type": "stream",
     "text": [
      "Mean IoU = 0.6946981\n",
      "[[11820404.   371123.   141308.   288315.]\n",
      " [  315325. 12963684.  1693126.   562799.]\n",
      " [  181447.  2610092.  4599400.  1371787.]\n",
      " [  213516.   380220.   640204. 13555154.]]\n",
      "IoU for class0 is:  0.88665634\n",
      "IoU for class1 is:  0.68604106\n",
      "IoU for class2 is:  0.4092953\n",
      "IoU for class3 is:  0.7967997\n"
     ]
    }
   ],
   "source": [
    "#Using built in keras function\n",
    "IOU_keras = MeanIoU(num_classes=n_classes)  \n",
    "IOU_keras.update_state(y_test[:,:,:,0], val_y_pred_argmax)\n",
    "print(\"Mean IoU =\", IOU_keras.result().numpy())\n",
    "\n",
    "\n",
    "#To calculate I0U for each class...\n",
    "values = np.array(IOU_keras.get_weights()).reshape(n_classes, n_classes)\n",
    "print(values)\n",
    "class0_IoU = values[0,0]/(values[0,0] + values[0,1] + values[0,2] + values[0,3]+ values[1,0]+ values[2,0]+ values[3,0])\n",
    "class1_IoU = values[1,1]/(values[1,1] + values[1,0] + values[1,2] + values[1,3]+ values[0,1]+ values[2,1]+ values[3,1])\n",
    "class2_IoU = values[2,2]/(values[2,2] + values[2,0] + values[2,1] + values[2,3]+ values[0,2]+ values[1,2]+ values[3,2])\n",
    "class3_IoU = values[3,3]/(values[3,3] + values[3,0] + values[3,1] + values[3,2]+ values[0,3]+ values[1,3]+ values[2,3])\n",
    "#class4_IoU = values[4,4]/(values[4,4] + values[4,0] + values[4,1] + values[4,2]+ values[4,3]+ values[0,4]+ values[1,4]+ values[2,4]+ values[3,4])\n",
    "\n",
    "\n",
    "print(\"IoU for class0 is: \", class0_IoU)\n",
    "print(\"IoU for class1 is: \", class1_IoU)\n",
    "print(\"IoU for class2 is: \", class2_IoU)\n",
    "print(\"IoU for class3 is: \", class3_IoU)\n",
    "#print(\"IoU for class4 is: \", class4_IoU)"
   ]
  },
  {
   "cell_type": "code",
   "execution_count": 18,
   "metadata": {},
   "outputs": [],
   "source": [
    "import itertools\n",
    "def plot_confusion_matrix(cm, classes,name:str, normalize=False, title=\"Confusion Matrix\", cmap=plt.cm.Blues):\n",
    "    plt.figure()\n",
    "    plt.imshow(cm, interpolation='nearest', cmap=cmap)\n",
    "    plt.title(title)\n",
    "    plt.colorbar()\n",
    "    plt.grid(False)\n",
    "    tick_marks = np.arange(len(classes))\n",
    "    plt.xticks(tick_marks, classes, rotation=45)\n",
    "    plt.yticks(tick_marks, classes)\n",
    "    if normalize:\n",
    "        cm = cm.astype('float') / cm.sum(axis=1)[:, np.newaxis]\n",
    "    thresh = cm.max() / 2\n",
    "    for i, j in itertools.product(range(cm.shape[0]), range(cm.shape[1])):\n",
    "        plt.text(j, i, cm[i, j], horizontalalignment=\"center\", color=\"white\" if cm[i, j] > thresh else \"black\")\n",
    "    \n",
    "    plt.tight_layout()\n",
    "    plt.ylabel('True label')\n",
    "    plt.xlabel('Predicted label')\n",
    "    plt.savefig(f'confusion_matrix_{name}.png')"
   ]
  },
  {
   "cell_type": "code",
   "execution_count": 19,
   "metadata": {},
   "outputs": [
    {
     "name": "stdout",
     "output_type": "stream",
     "text": [
      "              precision    recall  f1-score   support\n",
      "\n",
      "  background     0.9433    0.9366    0.9399  12621150\n",
      "         mud     0.7941    0.8345    0.8138  15534934\n",
      "        sand     0.6502    0.5249    0.5809   8762726\n",
      "      gravel     0.8591    0.9166    0.8869  14789094\n",
      "\n",
      "    accuracy                         0.8304  51707904\n",
      "   macro avg     0.8117    0.8031    0.8054  51707904\n",
      "weighted avg     0.8247    0.8304    0.8260  51707904\n",
      "\n"
     ]
    },
    {
     "data": {
      "image/png": "[encoded data removed]",
      "text/plain": [
       "<Figure size 640x480 with 2 Axes>"
      ]
     },
     "metadata": {},
     "output_type": "display_data"
    }
   ],
   "source": [
    "values_cm = int_array = np.array(IOU_keras.get_weights()).astype(int)\n",
    "values_cm  = values_cm .reshape(n_classes, n_classes)\n",
    "target_names = [\"background\",\"mud\",\"sand\",\"gravel\"]\n",
    "plot_confusion_matrix(values_cm , target_names,f'{model_name}')\n",
    "classification_report_test = classification_report(y_test[:,:,:,0].ravel(),\n",
    "                                                   val_y_pred_argmax.ravel(),\n",
    "                                                    target_names=target_names, \n",
    "                                                    digits = 4)\n",
    "print(classification_report_test)#會輸出precision、recall與f1-score。"
   ]
  },
  {
   "cell_type": "markdown",
   "metadata": {},
   "source": [
    "### Testing dataset 預測結果"
   ]
  },
  {
   "cell_type": "code",
   "execution_count": 20,
   "metadata": {},
   "outputs": [],
   "source": [
    "# 捕捉訓練圖片信息，以列表形式保存\n",
    "test_images = []\n",
    "\n",
    "\n",
    "for img_path in glob.glob('../raw_data/testing_dataset/core_image/*.png'):\n",
    "    img = cv2.imread(img_path)\n",
    "    img = cv2.resize(img, (SIZE_Y, SIZE_X))\n",
    "    test_images.append(img)\n",
    "    # 提取文件名並附加到列表中\n",
    "    image_name = os.path.basename(img_path)\n",
    "\n",
    "# 將列表轉換為陣列，以供機器學習處理        \n",
    "test_images = np.array(test_images)\n",
    "\n",
    "# 捕捉遮罩/標籤信息，以列表形式保存\n",
    "test_masks = [] \n",
    "name_list = []\n",
    "\n",
    "for mask_path in glob.glob(f'../raw_data/testing_dataset/{int(n_classes)-1}_label/*.png'):\n",
    "    # 获取文件名并添加到列表中\n",
    "    name = os.path.basename(mask_path)\n",
    "    name_list.append(name)\n",
    "    mask = cv2.imread(mask_path, 0)\n",
    "    mask = cv2.resize(mask, (SIZE_Y, SIZE_X), interpolation=cv2.INTER_NEAREST)\n",
    "    test_masks.append(mask)\n",
    "        \n",
    "# 將列表轉換為陣列，以供機器學習處理          \n",
    "test_masks = np.array(test_masks)  # 這是載入照片及標籤的程式"
   ]
  },
  {
   "cell_type": "code",
   "execution_count": 21,
   "metadata": {},
   "outputs": [
    {
     "name": "stdout",
     "output_type": "stream",
     "text": [
      "test image shape: (4, 256, 256, 3)\n",
      "test mask shape: (4, 256, 256)\n"
     ]
    }
   ],
   "source": [
    "print(\"test image shape: \" + str(test_images.shape))\n",
    "print(\"test mask shape: \" + str(test_masks.shape))"
   ]
  },
  {
   "cell_type": "code",
   "execution_count": 22,
   "metadata": {},
   "outputs": [
    {
     "name": "stdout",
     "output_type": "stream",
     "text": [
      "(4, 256, 256)\n"
     ]
    },
    {
     "data": {
      "text/plain": [
       "array([0, 1, 2, 3], dtype=int64)"
      ]
     },
     "execution_count": 22,
     "metadata": {},
     "output_type": "execute_result"
    }
   ],
   "source": [
    "###############################################\n",
    "#Encode labels... but multi dim array so need to flatten, encode and reshape\n",
    "labelencoder = LabelEncoder()\n",
    "n, h, w = test_masks.shape\n",
    "test_masks_reshaped = test_masks.reshape(-1,1)\n",
    "test_masks_reshaped_encoded = labelencoder.fit_transform(test_masks_reshaped.ravel())\n",
    "test_masks_encoded_original_shape = test_masks_reshaped_encoded.reshape(n, h, w)\n",
    "\n",
    "print(test_masks_encoded_original_shape.shape)\n",
    "np.unique(test_masks_encoded_original_shape)"
   ]
  },
  {
   "cell_type": "code",
   "execution_count": 23,
   "metadata": {},
   "outputs": [],
   "source": [
    "test_images_norm = test_images/255\n",
    "\n",
    "test_masks_input = np.expand_dims(test_masks_encoded_original_shape, axis=3)"
   ]
  },
  {
   "cell_type": "code",
   "execution_count": 24,
   "metadata": {},
   "outputs": [
    {
     "name": "stdout",
     "output_type": "stream",
     "text": [
      "1/1 [==============================] - 0s 410ms/step\n"
     ]
    }
   ],
   "source": [
    "##################################\n",
    "#IOU\n",
    "y_pred=model.predict(test_images_norm)\n",
    "y_pred_argmax=np.argmax(y_pred, axis=3)"
   ]
  },
  {
   "cell_type": "code",
   "execution_count": 25,
   "metadata": {},
   "outputs": [
    {
     "name": "stdout",
     "output_type": "stream",
     "text": [
      "Mean IoU = 0.6861122\n"
     ]
    }
   ],
   "source": [
    "IOU_keras = MeanIoU(num_classes=n_classes)  \n",
    "IOU_keras.update_state(test_masks_input[:,:,:,0], y_pred_argmax)\n",
    "print(\"Mean IoU =\", IOU_keras.result().numpy())"
   ]
  },
  {
   "cell_type": "code",
   "execution_count": 26,
   "metadata": {},
   "outputs": [
    {
     "name": "stdout",
     "output_type": "stream",
     "text": [
      "Mean IoU = 0.6861122\n",
      "[[6.6387e+04 4.0000e+02 9.0000e+00 2.9800e+02]\n",
      " [3.4100e+02 1.4364e+05 9.6380e+03 8.0730e+03]\n",
      " [5.0000e+01 5.7920e+03 8.6260e+03 3.7200e+02]\n",
      " [3.2000e+01 9.6400e+02 1.6860e+03 1.5836e+04]]\n",
      "IoU for class0 is:  0.9832635\n",
      "IoU for class1 is:  0.850706\n",
      "IoU for class2 is:  0.32957628\n",
      "IoU for class3 is:  0.5809031\n"
     ]
    }
   ],
   "source": [
    "IOU_keras = MeanIoU(num_classes=n_classes)  \n",
    "IOU_keras.update_state(test_masks.ravel(), y_pred_argmax)\n",
    "print(\"Mean IoU =\", IOU_keras.result().numpy())\n",
    "\n",
    "\n",
    "#To calculate I0U for each class...\n",
    "values = np.array(IOU_keras.get_weights()).reshape(n_classes, n_classes)\n",
    "print(values)\n",
    "class0_IoU = values[0,0]/(values[0,0] + values[0,1] + values[0,2] + values[0,3]+ values[1,0]+ values[2,0]+ values[3,0])\n",
    "class1_IoU = values[1,1]/(values[1,1] + values[1,0] + values[1,2] + values[1,3]+ values[0,1]+ values[2,1]+ values[3,1])\n",
    "class2_IoU = values[2,2]/(values[2,2] + values[2,0] + values[2,1] + values[2,3]+ values[0,2]+ values[1,2]+ values[3,2])\n",
    "class3_IoU = values[3,3]/(values[3,3] + values[3,0] + values[3,1] + values[3,2]+ values[0,3]+ values[1,3]+ values[2,3])\n",
    "#class4_IoU = values[4,4]/(values[4,4] + values[4,0] + values[4,1] + values[4,2]+ values[4,3]+ values[0,4]+ values[1,4]+ values[2,4]+ values[3,4])\n",
    "\n",
    "\n",
    "print(\"IoU for class0 is: \", class0_IoU)\n",
    "print(\"IoU for class1 is: \", class1_IoU)\n",
    "print(\"IoU for class2 is: \", class2_IoU)\n",
    "print(\"IoU for class3 is: \", class3_IoU)\n",
    "#print(\"IoU for class4 is: \", class4_IoU)"
   ]
  },
  {
   "cell_type": "code",
   "execution_count": 27,
   "metadata": {},
   "outputs": [
    {
     "name": "stdout",
     "output_type": "stream",
     "text": [
      "              precision    recall  f1-score   support\n",
      "\n",
      "  background     0.9937    0.9895    0.9916     67094\n",
      "         mud     0.9525    0.8884    0.9193    161692\n",
      "        sand     0.4322    0.5813    0.4958     14840\n",
      "      gravel     0.6443    0.8552    0.7349     18518\n",
      "\n",
      "    accuracy                         0.8945    262144\n",
      "   macro avg     0.7557    0.8286    0.7854    262144\n",
      "weighted avg     0.9118    0.8945    0.9008    262144\n",
      "\n"
     ]
    },
    {
     "data": {
      "image/png": "[encoded data removed]",
      "text/plain": [
       "<Figure size 640x480 with 2 Axes>"
      ]
     },
     "metadata": {},
     "output_type": "display_data"
    }
   ],
   "source": [
    "values_cm = int_array = np.array(IOU_keras.get_weights()).astype(int)\n",
    "values_cm  = values_cm .reshape(n_classes, n_classes)\n",
    "target_names = [\"background\",\"mud\",\"sand\",\"gravel\"]\n",
    "plot_confusion_matrix(values_cm , target_names,f'testing_{model_name}')\n",
    "classification_report_test = classification_report(test_masks.ravel(),\n",
    "                                                   y_pred_argmax.ravel(),\n",
    "                                                    target_names=target_names, \n",
    "                                                    digits = 4)\n",
    "print(classification_report_test)#會輸出precision、recall與f1-score。"
   ]
  },
  {
   "cell_type": "markdown",
   "metadata": {},
   "source": [
    "----"
   ]
  },
  {
   "cell_type": "markdown",
   "metadata": {},
   "source": [
    "## 寫入excel"
   ]
  },
  {
   "cell_type": "code",
   "execution_count": null,
   "metadata": {},
   "outputs": [],
   "source": [
    "val_report = classification_report(y_test[:,:,:,0].ravel(),\n",
    "                                val_y_pred_argmax.ravel(), \n",
    "                                target_names=target_names, \n",
    "                                digits = 4,\n",
    "                                output_dict=True)\n",
    "val_df = pd.DataFrame(val_report).transpose()\n",
    "val_df"
   ]
  },
  {
   "cell_type": "code",
   "execution_count": null,
   "metadata": {},
   "outputs": [],
   "source": [
    "new_row_data = {}\n",
    "for col in val_df.columns:\n",
    "    new_row_data[col] = 'validation'\n",
    "\n",
    "new_row = pd.DataFrame(new_row_data, index=[0])\n",
    "new_row"
   ]
  },
  {
   "cell_type": "code",
   "execution_count": null,
   "metadata": {},
   "outputs": [],
   "source": [
    "val_df = pd.concat([new_row, val_df], ignore_index=False, axis=0)\n",
    "val_df"
   ]
  },
  {
   "cell_type": "code",
   "execution_count": null,
   "metadata": {},
   "outputs": [],
   "source": [
    "test_report = classification_report(test_masks.ravel(),\n",
    "                                   y_pred_argmax.ravel(),\n",
    "                                    target_names=target_names, \n",
    "                                    digits = 4,\n",
    "                                    output_dict=True)"
   ]
  },
  {
   "cell_type": "code",
   "execution_count": null,
   "metadata": {},
   "outputs": [],
   "source": [
    "new_row_data = {}\n",
    "for col in val_df.columns:\n",
    "    new_row_data[col] = 'testing'\n",
    "\n",
    "new_row = pd.DataFrame(new_row_data, index=[0])"
   ]
  },
  {
   "cell_type": "code",
   "execution_count": null,
   "metadata": {},
   "outputs": [],
   "source": [
    "test_df = pd.DataFrame(test_report).transpose()"
   ]
  },
  {
   "cell_type": "code",
   "execution_count": null,
   "metadata": {},
   "outputs": [],
   "source": [
    "test_df = pd.concat([new_row, test_df], ignore_index=False)\n",
    "test_df"
   ]
  },
  {
   "cell_type": "code",
   "execution_count": null,
   "metadata": {},
   "outputs": [],
   "source": [
    "df = pd.concat([val_df, test_df], ignore_index=False)\n",
    "df"
   ]
  },
  {
   "cell_type": "code",
   "execution_count": null,
   "metadata": {},
   "outputs": [],
   "source": [
    "# 检查文件是否存在\n",
    "if not os.path.exists('./segnet_result.xlsx'):\n",
    "    # 将 DataFrame 保存为 Excel 文件\n",
    "    df.to_excel('./segnet_result.xlsx', sheet_name=f'random_{random_number}')\n",
    "else:\n",
    "    # 如果文件已存在，则不执行任何操作\n",
    "    pass"
   ]
  },
  {
   "cell_type": "code",
   "execution_count": null,
   "metadata": {},
   "outputs": [],
   "source": [
    "with pd.ExcelWriter('./segnet_result.xlsx', engine='openpyxl', mode='a') as writer:\n",
    "    # 寫入 DataFrame 到現有的 Excel 檔案的指定工作表中\n",
    "    df.to_excel(writer, index=True, sheet_name=f'random_{random_number}')"
   ]
  }
 ],
 "metadata": {
  "kernelspec": {
   "display_name": "well_work",
   "language": "python",
   "name": "python3"
  },
  "language_info": {
   "codemirror_mode": {
    "name": "ipython",
    "version": 3
   },
   "file_extension": ".py",
   "mimetype": "text/x-python",
   "name": "python",
   "nbconvert_exporter": "python",
   "pygments_lexer": "ipython3",
   "version": "3.9.16"
  }
 },
 "nbformat": 4,
 "nbformat_minor": 2
}
